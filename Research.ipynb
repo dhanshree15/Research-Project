{
 "cells": [
  {
   "cell_type": "code",
   "execution_count": 1,
   "id": "b9efea93",
   "metadata": {},
   "outputs": [],
   "source": [
    "import keras\n",
    "from keras.models import Sequential\n",
    "from keras.applications.vgg16 import VGG16\n",
    "from keras.applications.vgg19 import VGG19\n",
    "from keras.layers import Dense, InputLayer, Dropout, Flatten\n",
    "from keras.layers import Conv2D, MaxPooling2D, GlobalMaxPooling2D\n",
    "from keras.preprocessing import image\n",
    "import numpy as np\n",
    "import pandas as pd\n",
    "import matplotlib.pyplot as plt\n",
    "from tqdm import tqdm\n",
    "from sklearn.model_selection import train_test_split\n",
    "import os\n",
    "from glob import glob\n",
    "import math\n",
    "import cv2\n",
    "from scipy import stats as s\n",
    "import plotly as pt\n",
    "import plotly.express as px\n"
   ]
  },
  {
   "cell_type": "code",
   "execution_count": 2,
   "id": "9b08a19f",
   "metadata": {},
   "outputs": [],
   "source": [
    "# Store name of Training videos in a Dataframe\n",
    "f = open(\"train-data-names.txt\", \"r\") # text file is opened in the mode read\n",
    "temp = f.read()   # text file is read and stored in a variable temp\n",
    "videos = temp.split('\\n')\n",
    "\n",
    "# creating a dataframe having video names\n",
    "train = pd.DataFrame() # creating a dataframe\n",
    "train['video_name'] = videos # storing videos in column name 'video_name'\n",
    "train = train[:-1]\n",
    "train_name = train['video_name']\n",
    "train.head()\n",
    "\n",
    "\n",
    "# Store name of TEST videos in a Dataframe\n",
    "f = open(\"test-data-names.txt\", \"r\")\n",
    "temp = f.read()\n",
    "videos = temp.split('\\n')\n",
    "\n",
    "# creating a dataframe having video names\n",
    "test = pd.DataFrame()\n",
    "test['video_name'] = videos\n",
    "test = test[:-1]\n",
    "test_name = test['video_name']\n",
    "test.head()\n",
    "\n",
    "\n",
    "\n",
    "# labelling the videos stored in dataframe\n",
    "\n",
    "\n",
    "train_video_tag=[]\n",
    "test_video_tag=[]\n",
    "\n",
    "for i in range(train.shape[0]):\n",
    "    train_video_tag.append(train['video_name'][i].split('_')[0].split(' ')[0])\n",
    "train['tag'] = train_video_tag # storing tags in the column\n",
    "\n",
    "\n",
    "for i in range(test.shape[0]):\n",
    "    test_video_tag.append(test['video_name'][i].split('_')[0])\n",
    "test['tag'] = test_video_tag  # storing tags in the column\n"
   ]
  },
  {
   "cell_type": "code",
   "execution_count": 181,
   "id": "9b7db9f0",
   "metadata": {},
   "outputs": [
    {
     "data": {
      "text/html": [
       "<div>\n",
       "<style scoped>\n",
       "    .dataframe tbody tr th:only-of-type {\n",
       "        vertical-align: middle;\n",
       "    }\n",
       "\n",
       "    .dataframe tbody tr th {\n",
       "        vertical-align: top;\n",
       "    }\n",
       "\n",
       "    .dataframe thead th {\n",
       "        text-align: right;\n",
       "    }\n",
       "</style>\n",
       "<table border=\"1\" class=\"dataframe\">\n",
       "  <thead>\n",
       "    <tr style=\"text-align: right;\">\n",
       "      <th></th>\n",
       "      <th>video_name</th>\n",
       "      <th>tag</th>\n",
       "    </tr>\n",
       "  </thead>\n",
       "  <tbody>\n",
       "    <tr>\n",
       "      <th>0</th>\n",
       "      <td>gBR_sFM_c01_d04_mBR0_ch01.mp4</td>\n",
       "      <td>gBR</td>\n",
       "    </tr>\n",
       "    <tr>\n",
       "      <th>1</th>\n",
       "      <td>gBR_sFM_c01_d04_mBR1_ch02.mp4</td>\n",
       "      <td>gBR</td>\n",
       "    </tr>\n",
       "    <tr>\n",
       "      <th>2</th>\n",
       "      <td>gBR_sFM_c01_d04_mBR2_ch03.mp4</td>\n",
       "      <td>gBR</td>\n",
       "    </tr>\n",
       "    <tr>\n",
       "      <th>3</th>\n",
       "      <td>gBR_sFM_c01_d04_mBR4_ch05.mp4</td>\n",
       "      <td>gBR</td>\n",
       "    </tr>\n",
       "    <tr>\n",
       "      <th>4</th>\n",
       "      <td>gBR_sFM_c01_d04_mBR4_ch07.mp4</td>\n",
       "      <td>gBR</td>\n",
       "    </tr>\n",
       "    <tr>\n",
       "      <th>...</th>\n",
       "      <td>...</td>\n",
       "      <td>...</td>\n",
       "    </tr>\n",
       "    <tr>\n",
       "      <th>174</th>\n",
       "      <td>gWA_sFM_c01_d27_mWA1_ch16.mp4</td>\n",
       "      <td>gWA</td>\n",
       "    </tr>\n",
       "    <tr>\n",
       "      <th>175</th>\n",
       "      <td>gWA_sFM_c01_d27_mWA2_ch17.mp4</td>\n",
       "      <td>gWA</td>\n",
       "    </tr>\n",
       "    <tr>\n",
       "      <th>176</th>\n",
       "      <td>gWA_sFM_c01_d27_mWA2_ch21.mp4</td>\n",
       "      <td>gWA</td>\n",
       "    </tr>\n",
       "    <tr>\n",
       "      <th>177</th>\n",
       "      <td>gWA_sFM_c01_d27_mWA3_ch18.mp4</td>\n",
       "      <td>gWA</td>\n",
       "    </tr>\n",
       "    <tr>\n",
       "      <th>178</th>\n",
       "      <td>gWA_sFM_c01_d27_mWA4_ch19.mp4</td>\n",
       "      <td>gWA</td>\n",
       "    </tr>\n",
       "  </tbody>\n",
       "</table>\n",
       "<p>179 rows × 2 columns</p>\n",
       "</div>"
      ],
      "text/plain": [
       "                        video_name  tag\n",
       "0    gBR_sFM_c01_d04_mBR0_ch01.mp4  gBR\n",
       "1    gBR_sFM_c01_d04_mBR1_ch02.mp4  gBR\n",
       "2    gBR_sFM_c01_d04_mBR2_ch03.mp4  gBR\n",
       "3    gBR_sFM_c01_d04_mBR4_ch05.mp4  gBR\n",
       "4    gBR_sFM_c01_d04_mBR4_ch07.mp4  gBR\n",
       "..                             ...  ...\n",
       "174  gWA_sFM_c01_d27_mWA1_ch16.mp4  gWA\n",
       "175  gWA_sFM_c01_d27_mWA2_ch17.mp4  gWA\n",
       "176  gWA_sFM_c01_d27_mWA2_ch21.mp4  gWA\n",
       "177  gWA_sFM_c01_d27_mWA3_ch18.mp4  gWA\n",
       "178  gWA_sFM_c01_d27_mWA4_ch19.mp4  gWA\n",
       "\n",
       "[179 rows x 2 columns]"
      ]
     },
     "execution_count": 181,
     "metadata": {},
     "output_type": "execute_result"
    }
   ],
   "source": [
    "train\n"
   ]
  },
  {
   "cell_type": "code",
   "execution_count": 187,
   "id": "3c888d28",
   "metadata": {
    "scrolled": false
   },
   "outputs": [
    {
     "data": {
      "application/vnd.plotly.v1+json": {
       "config": {
        "plotlyServerURL": "https://plot.ly"
       },
       "data": [
        {
         "alignmentgroup": "True",
         "hovertemplate": "Count=%{marker.color}<br>Labels=%{y}<extra></extra>",
         "legendgroup": "",
         "marker": {
          "color": [
           18,
           17,
           18,
           19,
           19,
           17,
           18,
           18,
           18,
           17
          ],
          "coloraxis": "coloraxis",
          "pattern": {
           "shape": ""
          }
         },
         "name": "",
         "offsetgroup": "",
         "orientation": "h",
         "showlegend": false,
         "textposition": "auto",
         "type": "bar",
         "x": [
          18,
          17,
          18,
          19,
          19,
          17,
          18,
          18,
          18,
          17
         ],
         "xaxis": "x",
         "y": [
          "gBR",
          "gHO",
          "gJB",
          "gJS",
          "gKR",
          "gLH",
          "gLO",
          "gMH",
          "gPO",
          "gWA"
         ],
         "yaxis": "y"
        }
       ],
       "layout": {
        "barmode": "relative",
        "coloraxis": {
         "colorbar": {
          "title": {
           "text": "Count"
          }
         },
         "colorscale": [
          [
           0,
           "#0d0887"
          ],
          [
           0.1111111111111111,
           "#46039f"
          ],
          [
           0.2222222222222222,
           "#7201a8"
          ],
          [
           0.3333333333333333,
           "#9c179e"
          ],
          [
           0.4444444444444444,
           "#bd3786"
          ],
          [
           0.5555555555555556,
           "#d8576b"
          ],
          [
           0.6666666666666666,
           "#ed7953"
          ],
          [
           0.7777777777777778,
           "#fb9f3a"
          ],
          [
           0.8888888888888888,
           "#fdca26"
          ],
          [
           1,
           "#f0f921"
          ]
         ]
        },
        "height": 400,
        "legend": {
         "tracegroupgap": 0
        },
        "margin": {
         "t": 60
        },
        "template": {
         "data": {
          "bar": [
           {
            "error_x": {
             "color": "#2a3f5f"
            },
            "error_y": {
             "color": "#2a3f5f"
            },
            "marker": {
             "line": {
              "color": "#E5ECF6",
              "width": 0.5
             },
             "pattern": {
              "fillmode": "overlay",
              "size": 10,
              "solidity": 0.2
             }
            },
            "type": "bar"
           }
          ],
          "barpolar": [
           {
            "marker": {
             "line": {
              "color": "#E5ECF6",
              "width": 0.5
             },
             "pattern": {
              "fillmode": "overlay",
              "size": 10,
              "solidity": 0.2
             }
            },
            "type": "barpolar"
           }
          ],
          "carpet": [
           {
            "aaxis": {
             "endlinecolor": "#2a3f5f",
             "gridcolor": "white",
             "linecolor": "white",
             "minorgridcolor": "white",
             "startlinecolor": "#2a3f5f"
            },
            "baxis": {
             "endlinecolor": "#2a3f5f",
             "gridcolor": "white",
             "linecolor": "white",
             "minorgridcolor": "white",
             "startlinecolor": "#2a3f5f"
            },
            "type": "carpet"
           }
          ],
          "choropleth": [
           {
            "colorbar": {
             "outlinewidth": 0,
             "ticks": ""
            },
            "type": "choropleth"
           }
          ],
          "contour": [
           {
            "colorbar": {
             "outlinewidth": 0,
             "ticks": ""
            },
            "colorscale": [
             [
              0,
              "#0d0887"
             ],
             [
              0.1111111111111111,
              "#46039f"
             ],
             [
              0.2222222222222222,
              "#7201a8"
             ],
             [
              0.3333333333333333,
              "#9c179e"
             ],
             [
              0.4444444444444444,
              "#bd3786"
             ],
             [
              0.5555555555555556,
              "#d8576b"
             ],
             [
              0.6666666666666666,
              "#ed7953"
             ],
             [
              0.7777777777777778,
              "#fb9f3a"
             ],
             [
              0.8888888888888888,
              "#fdca26"
             ],
             [
              1,
              "#f0f921"
             ]
            ],
            "type": "contour"
           }
          ],
          "contourcarpet": [
           {
            "colorbar": {
             "outlinewidth": 0,
             "ticks": ""
            },
            "type": "contourcarpet"
           }
          ],
          "heatmap": [
           {
            "colorbar": {
             "outlinewidth": 0,
             "ticks": ""
            },
            "colorscale": [
             [
              0,
              "#0d0887"
             ],
             [
              0.1111111111111111,
              "#46039f"
             ],
             [
              0.2222222222222222,
              "#7201a8"
             ],
             [
              0.3333333333333333,
              "#9c179e"
             ],
             [
              0.4444444444444444,
              "#bd3786"
             ],
             [
              0.5555555555555556,
              "#d8576b"
             ],
             [
              0.6666666666666666,
              "#ed7953"
             ],
             [
              0.7777777777777778,
              "#fb9f3a"
             ],
             [
              0.8888888888888888,
              "#fdca26"
             ],
             [
              1,
              "#f0f921"
             ]
            ],
            "type": "heatmap"
           }
          ],
          "heatmapgl": [
           {
            "colorbar": {
             "outlinewidth": 0,
             "ticks": ""
            },
            "colorscale": [
             [
              0,
              "#0d0887"
             ],
             [
              0.1111111111111111,
              "#46039f"
             ],
             [
              0.2222222222222222,
              "#7201a8"
             ],
             [
              0.3333333333333333,
              "#9c179e"
             ],
             [
              0.4444444444444444,
              "#bd3786"
             ],
             [
              0.5555555555555556,
              "#d8576b"
             ],
             [
              0.6666666666666666,
              "#ed7953"
             ],
             [
              0.7777777777777778,
              "#fb9f3a"
             ],
             [
              0.8888888888888888,
              "#fdca26"
             ],
             [
              1,
              "#f0f921"
             ]
            ],
            "type": "heatmapgl"
           }
          ],
          "histogram": [
           {
            "marker": {
             "pattern": {
              "fillmode": "overlay",
              "size": 10,
              "solidity": 0.2
             }
            },
            "type": "histogram"
           }
          ],
          "histogram2d": [
           {
            "colorbar": {
             "outlinewidth": 0,
             "ticks": ""
            },
            "colorscale": [
             [
              0,
              "#0d0887"
             ],
             [
              0.1111111111111111,
              "#46039f"
             ],
             [
              0.2222222222222222,
              "#7201a8"
             ],
             [
              0.3333333333333333,
              "#9c179e"
             ],
             [
              0.4444444444444444,
              "#bd3786"
             ],
             [
              0.5555555555555556,
              "#d8576b"
             ],
             [
              0.6666666666666666,
              "#ed7953"
             ],
             [
              0.7777777777777778,
              "#fb9f3a"
             ],
             [
              0.8888888888888888,
              "#fdca26"
             ],
             [
              1,
              "#f0f921"
             ]
            ],
            "type": "histogram2d"
           }
          ],
          "histogram2dcontour": [
           {
            "colorbar": {
             "outlinewidth": 0,
             "ticks": ""
            },
            "colorscale": [
             [
              0,
              "#0d0887"
             ],
             [
              0.1111111111111111,
              "#46039f"
             ],
             [
              0.2222222222222222,
              "#7201a8"
             ],
             [
              0.3333333333333333,
              "#9c179e"
             ],
             [
              0.4444444444444444,
              "#bd3786"
             ],
             [
              0.5555555555555556,
              "#d8576b"
             ],
             [
              0.6666666666666666,
              "#ed7953"
             ],
             [
              0.7777777777777778,
              "#fb9f3a"
             ],
             [
              0.8888888888888888,
              "#fdca26"
             ],
             [
              1,
              "#f0f921"
             ]
            ],
            "type": "histogram2dcontour"
           }
          ],
          "mesh3d": [
           {
            "colorbar": {
             "outlinewidth": 0,
             "ticks": ""
            },
            "type": "mesh3d"
           }
          ],
          "parcoords": [
           {
            "line": {
             "colorbar": {
              "outlinewidth": 0,
              "ticks": ""
             }
            },
            "type": "parcoords"
           }
          ],
          "pie": [
           {
            "automargin": true,
            "type": "pie"
           }
          ],
          "scatter": [
           {
            "marker": {
             "colorbar": {
              "outlinewidth": 0,
              "ticks": ""
             }
            },
            "type": "scatter"
           }
          ],
          "scatter3d": [
           {
            "line": {
             "colorbar": {
              "outlinewidth": 0,
              "ticks": ""
             }
            },
            "marker": {
             "colorbar": {
              "outlinewidth": 0,
              "ticks": ""
             }
            },
            "type": "scatter3d"
           }
          ],
          "scattercarpet": [
           {
            "marker": {
             "colorbar": {
              "outlinewidth": 0,
              "ticks": ""
             }
            },
            "type": "scattercarpet"
           }
          ],
          "scattergeo": [
           {
            "marker": {
             "colorbar": {
              "outlinewidth": 0,
              "ticks": ""
             }
            },
            "type": "scattergeo"
           }
          ],
          "scattergl": [
           {
            "marker": {
             "colorbar": {
              "outlinewidth": 0,
              "ticks": ""
             }
            },
            "type": "scattergl"
           }
          ],
          "scattermapbox": [
           {
            "marker": {
             "colorbar": {
              "outlinewidth": 0,
              "ticks": ""
             }
            },
            "type": "scattermapbox"
           }
          ],
          "scatterpolar": [
           {
            "marker": {
             "colorbar": {
              "outlinewidth": 0,
              "ticks": ""
             }
            },
            "type": "scatterpolar"
           }
          ],
          "scatterpolargl": [
           {
            "marker": {
             "colorbar": {
              "outlinewidth": 0,
              "ticks": ""
             }
            },
            "type": "scatterpolargl"
           }
          ],
          "scatterternary": [
           {
            "marker": {
             "colorbar": {
              "outlinewidth": 0,
              "ticks": ""
             }
            },
            "type": "scatterternary"
           }
          ],
          "surface": [
           {
            "colorbar": {
             "outlinewidth": 0,
             "ticks": ""
            },
            "colorscale": [
             [
              0,
              "#0d0887"
             ],
             [
              0.1111111111111111,
              "#46039f"
             ],
             [
              0.2222222222222222,
              "#7201a8"
             ],
             [
              0.3333333333333333,
              "#9c179e"
             ],
             [
              0.4444444444444444,
              "#bd3786"
             ],
             [
              0.5555555555555556,
              "#d8576b"
             ],
             [
              0.6666666666666666,
              "#ed7953"
             ],
             [
              0.7777777777777778,
              "#fb9f3a"
             ],
             [
              0.8888888888888888,
              "#fdca26"
             ],
             [
              1,
              "#f0f921"
             ]
            ],
            "type": "surface"
           }
          ],
          "table": [
           {
            "cells": {
             "fill": {
              "color": "#EBF0F8"
             },
             "line": {
              "color": "white"
             }
            },
            "header": {
             "fill": {
              "color": "#C8D4E3"
             },
             "line": {
              "color": "white"
             }
            },
            "type": "table"
           }
          ]
         },
         "layout": {
          "annotationdefaults": {
           "arrowcolor": "#2a3f5f",
           "arrowhead": 0,
           "arrowwidth": 1
          },
          "autotypenumbers": "strict",
          "coloraxis": {
           "colorbar": {
            "outlinewidth": 0,
            "ticks": ""
           }
          },
          "colorscale": {
           "diverging": [
            [
             0,
             "#8e0152"
            ],
            [
             0.1,
             "#c51b7d"
            ],
            [
             0.2,
             "#de77ae"
            ],
            [
             0.3,
             "#f1b6da"
            ],
            [
             0.4,
             "#fde0ef"
            ],
            [
             0.5,
             "#f7f7f7"
            ],
            [
             0.6,
             "#e6f5d0"
            ],
            [
             0.7,
             "#b8e186"
            ],
            [
             0.8,
             "#7fbc41"
            ],
            [
             0.9,
             "#4d9221"
            ],
            [
             1,
             "#276419"
            ]
           ],
           "sequential": [
            [
             0,
             "#0d0887"
            ],
            [
             0.1111111111111111,
             "#46039f"
            ],
            [
             0.2222222222222222,
             "#7201a8"
            ],
            [
             0.3333333333333333,
             "#9c179e"
            ],
            [
             0.4444444444444444,
             "#bd3786"
            ],
            [
             0.5555555555555556,
             "#d8576b"
            ],
            [
             0.6666666666666666,
             "#ed7953"
            ],
            [
             0.7777777777777778,
             "#fb9f3a"
            ],
            [
             0.8888888888888888,
             "#fdca26"
            ],
            [
             1,
             "#f0f921"
            ]
           ],
           "sequentialminus": [
            [
             0,
             "#0d0887"
            ],
            [
             0.1111111111111111,
             "#46039f"
            ],
            [
             0.2222222222222222,
             "#7201a8"
            ],
            [
             0.3333333333333333,
             "#9c179e"
            ],
            [
             0.4444444444444444,
             "#bd3786"
            ],
            [
             0.5555555555555556,
             "#d8576b"
            ],
            [
             0.6666666666666666,
             "#ed7953"
            ],
            [
             0.7777777777777778,
             "#fb9f3a"
            ],
            [
             0.8888888888888888,
             "#fdca26"
            ],
            [
             1,
             "#f0f921"
            ]
           ]
          },
          "colorway": [
           "#636efa",
           "#EF553B",
           "#00cc96",
           "#ab63fa",
           "#FFA15A",
           "#19d3f3",
           "#FF6692",
           "#B6E880",
           "#FF97FF",
           "#FECB52"
          ],
          "font": {
           "color": "#2a3f5f"
          },
          "geo": {
           "bgcolor": "white",
           "lakecolor": "white",
           "landcolor": "#E5ECF6",
           "showlakes": true,
           "showland": true,
           "subunitcolor": "white"
          },
          "hoverlabel": {
           "align": "left"
          },
          "hovermode": "closest",
          "mapbox": {
           "style": "light"
          },
          "paper_bgcolor": "white",
          "plot_bgcolor": "#E5ECF6",
          "polar": {
           "angularaxis": {
            "gridcolor": "white",
            "linecolor": "white",
            "ticks": ""
           },
           "bgcolor": "#E5ECF6",
           "radialaxis": {
            "gridcolor": "white",
            "linecolor": "white",
            "ticks": ""
           }
          },
          "scene": {
           "xaxis": {
            "backgroundcolor": "#E5ECF6",
            "gridcolor": "white",
            "gridwidth": 2,
            "linecolor": "white",
            "showbackground": true,
            "ticks": "",
            "zerolinecolor": "white"
           },
           "yaxis": {
            "backgroundcolor": "#E5ECF6",
            "gridcolor": "white",
            "gridwidth": 2,
            "linecolor": "white",
            "showbackground": true,
            "ticks": "",
            "zerolinecolor": "white"
           },
           "zaxis": {
            "backgroundcolor": "#E5ECF6",
            "gridcolor": "white",
            "gridwidth": 2,
            "linecolor": "white",
            "showbackground": true,
            "ticks": "",
            "zerolinecolor": "white"
           }
          },
          "shapedefaults": {
           "line": {
            "color": "#2a3f5f"
           }
          },
          "ternary": {
           "aaxis": {
            "gridcolor": "white",
            "linecolor": "white",
            "ticks": ""
           },
           "baxis": {
            "gridcolor": "white",
            "linecolor": "white",
            "ticks": ""
           },
           "bgcolor": "#E5ECF6",
           "caxis": {
            "gridcolor": "white",
            "linecolor": "white",
            "ticks": ""
           }
          },
          "title": {
           "x": 0.05
          },
          "xaxis": {
           "automargin": true,
           "gridcolor": "white",
           "linecolor": "white",
           "ticks": "",
           "title": {
            "standoff": 15
           },
           "zerolinecolor": "white",
           "zerolinewidth": 2
          },
          "yaxis": {
           "automargin": true,
           "gridcolor": "white",
           "linecolor": "white",
           "ticks": "",
           "title": {
            "standoff": 15
           },
           "zerolinecolor": "white",
           "zerolinewidth": 2
          }
         }
        },
        "xaxis": {
         "anchor": "y",
         "domain": [
          0,
          1
         ],
         "title": {
          "text": "Count"
         }
        },
        "yaxis": {
         "anchor": "x",
         "domain": [
          0,
          1
         ],
         "title": {
          "text": "Labels"
         }
        }
       }
      },
      "text/html": [
       "<div>                            <div id=\"9b38a39a-7f42-4bbf-a728-d5331be73915\" class=\"plotly-graph-div\" style=\"height:400px; width:100%;\"></div>            <script type=\"text/javascript\">                require([\"plotly\"], function(Plotly) {                    window.PLOTLYENV=window.PLOTLYENV || {};                                    if (document.getElementById(\"9b38a39a-7f42-4bbf-a728-d5331be73915\")) {                    Plotly.newPlot(                        \"9b38a39a-7f42-4bbf-a728-d5331be73915\",                        [{\"alignmentgroup\":\"True\",\"hovertemplate\":\"Count=%{marker.color}<br>Labels=%{y}<extra></extra>\",\"legendgroup\":\"\",\"marker\":{\"color\":[18,17,18,19,19,17,18,18,18,17],\"coloraxis\":\"coloraxis\",\"pattern\":{\"shape\":\"\"}},\"name\":\"\",\"offsetgroup\":\"\",\"orientation\":\"h\",\"showlegend\":false,\"textposition\":\"auto\",\"x\":[18,17,18,19,19,17,18,18,18,17],\"xaxis\":\"x\",\"y\":[\"gBR\",\"gHO\",\"gJB\",\"gJS\",\"gKR\",\"gLH\",\"gLO\",\"gMH\",\"gPO\",\"gWA\"],\"yaxis\":\"y\",\"type\":\"bar\"}],                        {\"template\":{\"data\":{\"bar\":[{\"error_x\":{\"color\":\"#2a3f5f\"},\"error_y\":{\"color\":\"#2a3f5f\"},\"marker\":{\"line\":{\"color\":\"#E5ECF6\",\"width\":0.5},\"pattern\":{\"fillmode\":\"overlay\",\"size\":10,\"solidity\":0.2}},\"type\":\"bar\"}],\"barpolar\":[{\"marker\":{\"line\":{\"color\":\"#E5ECF6\",\"width\":0.5},\"pattern\":{\"fillmode\":\"overlay\",\"size\":10,\"solidity\":0.2}},\"type\":\"barpolar\"}],\"carpet\":[{\"aaxis\":{\"endlinecolor\":\"#2a3f5f\",\"gridcolor\":\"white\",\"linecolor\":\"white\",\"minorgridcolor\":\"white\",\"startlinecolor\":\"#2a3f5f\"},\"baxis\":{\"endlinecolor\":\"#2a3f5f\",\"gridcolor\":\"white\",\"linecolor\":\"white\",\"minorgridcolor\":\"white\",\"startlinecolor\":\"#2a3f5f\"},\"type\":\"carpet\"}],\"choropleth\":[{\"colorbar\":{\"outlinewidth\":0,\"ticks\":\"\"},\"type\":\"choropleth\"}],\"contour\":[{\"colorbar\":{\"outlinewidth\":0,\"ticks\":\"\"},\"colorscale\":[[0.0,\"#0d0887\"],[0.1111111111111111,\"#46039f\"],[0.2222222222222222,\"#7201a8\"],[0.3333333333333333,\"#9c179e\"],[0.4444444444444444,\"#bd3786\"],[0.5555555555555556,\"#d8576b\"],[0.6666666666666666,\"#ed7953\"],[0.7777777777777778,\"#fb9f3a\"],[0.8888888888888888,\"#fdca26\"],[1.0,\"#f0f921\"]],\"type\":\"contour\"}],\"contourcarpet\":[{\"colorbar\":{\"outlinewidth\":0,\"ticks\":\"\"},\"type\":\"contourcarpet\"}],\"heatmap\":[{\"colorbar\":{\"outlinewidth\":0,\"ticks\":\"\"},\"colorscale\":[[0.0,\"#0d0887\"],[0.1111111111111111,\"#46039f\"],[0.2222222222222222,\"#7201a8\"],[0.3333333333333333,\"#9c179e\"],[0.4444444444444444,\"#bd3786\"],[0.5555555555555556,\"#d8576b\"],[0.6666666666666666,\"#ed7953\"],[0.7777777777777778,\"#fb9f3a\"],[0.8888888888888888,\"#fdca26\"],[1.0,\"#f0f921\"]],\"type\":\"heatmap\"}],\"heatmapgl\":[{\"colorbar\":{\"outlinewidth\":0,\"ticks\":\"\"},\"colorscale\":[[0.0,\"#0d0887\"],[0.1111111111111111,\"#46039f\"],[0.2222222222222222,\"#7201a8\"],[0.3333333333333333,\"#9c179e\"],[0.4444444444444444,\"#bd3786\"],[0.5555555555555556,\"#d8576b\"],[0.6666666666666666,\"#ed7953\"],[0.7777777777777778,\"#fb9f3a\"],[0.8888888888888888,\"#fdca26\"],[1.0,\"#f0f921\"]],\"type\":\"heatmapgl\"}],\"histogram\":[{\"marker\":{\"pattern\":{\"fillmode\":\"overlay\",\"size\":10,\"solidity\":0.2}},\"type\":\"histogram\"}],\"histogram2d\":[{\"colorbar\":{\"outlinewidth\":0,\"ticks\":\"\"},\"colorscale\":[[0.0,\"#0d0887\"],[0.1111111111111111,\"#46039f\"],[0.2222222222222222,\"#7201a8\"],[0.3333333333333333,\"#9c179e\"],[0.4444444444444444,\"#bd3786\"],[0.5555555555555556,\"#d8576b\"],[0.6666666666666666,\"#ed7953\"],[0.7777777777777778,\"#fb9f3a\"],[0.8888888888888888,\"#fdca26\"],[1.0,\"#f0f921\"]],\"type\":\"histogram2d\"}],\"histogram2dcontour\":[{\"colorbar\":{\"outlinewidth\":0,\"ticks\":\"\"},\"colorscale\":[[0.0,\"#0d0887\"],[0.1111111111111111,\"#46039f\"],[0.2222222222222222,\"#7201a8\"],[0.3333333333333333,\"#9c179e\"],[0.4444444444444444,\"#bd3786\"],[0.5555555555555556,\"#d8576b\"],[0.6666666666666666,\"#ed7953\"],[0.7777777777777778,\"#fb9f3a\"],[0.8888888888888888,\"#fdca26\"],[1.0,\"#f0f921\"]],\"type\":\"histogram2dcontour\"}],\"mesh3d\":[{\"colorbar\":{\"outlinewidth\":0,\"ticks\":\"\"},\"type\":\"mesh3d\"}],\"parcoords\":[{\"line\":{\"colorbar\":{\"outlinewidth\":0,\"ticks\":\"\"}},\"type\":\"parcoords\"}],\"pie\":[{\"automargin\":true,\"type\":\"pie\"}],\"scatter\":[{\"marker\":{\"colorbar\":{\"outlinewidth\":0,\"ticks\":\"\"}},\"type\":\"scatter\"}],\"scatter3d\":[{\"line\":{\"colorbar\":{\"outlinewidth\":0,\"ticks\":\"\"}},\"marker\":{\"colorbar\":{\"outlinewidth\":0,\"ticks\":\"\"}},\"type\":\"scatter3d\"}],\"scattercarpet\":[{\"marker\":{\"colorbar\":{\"outlinewidth\":0,\"ticks\":\"\"}},\"type\":\"scattercarpet\"}],\"scattergeo\":[{\"marker\":{\"colorbar\":{\"outlinewidth\":0,\"ticks\":\"\"}},\"type\":\"scattergeo\"}],\"scattergl\":[{\"marker\":{\"colorbar\":{\"outlinewidth\":0,\"ticks\":\"\"}},\"type\":\"scattergl\"}],\"scattermapbox\":[{\"marker\":{\"colorbar\":{\"outlinewidth\":0,\"ticks\":\"\"}},\"type\":\"scattermapbox\"}],\"scatterpolar\":[{\"marker\":{\"colorbar\":{\"outlinewidth\":0,\"ticks\":\"\"}},\"type\":\"scatterpolar\"}],\"scatterpolargl\":[{\"marker\":{\"colorbar\":{\"outlinewidth\":0,\"ticks\":\"\"}},\"type\":\"scatterpolargl\"}],\"scatterternary\":[{\"marker\":{\"colorbar\":{\"outlinewidth\":0,\"ticks\":\"\"}},\"type\":\"scatterternary\"}],\"surface\":[{\"colorbar\":{\"outlinewidth\":0,\"ticks\":\"\"},\"colorscale\":[[0.0,\"#0d0887\"],[0.1111111111111111,\"#46039f\"],[0.2222222222222222,\"#7201a8\"],[0.3333333333333333,\"#9c179e\"],[0.4444444444444444,\"#bd3786\"],[0.5555555555555556,\"#d8576b\"],[0.6666666666666666,\"#ed7953\"],[0.7777777777777778,\"#fb9f3a\"],[0.8888888888888888,\"#fdca26\"],[1.0,\"#f0f921\"]],\"type\":\"surface\"}],\"table\":[{\"cells\":{\"fill\":{\"color\":\"#EBF0F8\"},\"line\":{\"color\":\"white\"}},\"header\":{\"fill\":{\"color\":\"#C8D4E3\"},\"line\":{\"color\":\"white\"}},\"type\":\"table\"}]},\"layout\":{\"annotationdefaults\":{\"arrowcolor\":\"#2a3f5f\",\"arrowhead\":0,\"arrowwidth\":1},\"autotypenumbers\":\"strict\",\"coloraxis\":{\"colorbar\":{\"outlinewidth\":0,\"ticks\":\"\"}},\"colorscale\":{\"diverging\":[[0,\"#8e0152\"],[0.1,\"#c51b7d\"],[0.2,\"#de77ae\"],[0.3,\"#f1b6da\"],[0.4,\"#fde0ef\"],[0.5,\"#f7f7f7\"],[0.6,\"#e6f5d0\"],[0.7,\"#b8e186\"],[0.8,\"#7fbc41\"],[0.9,\"#4d9221\"],[1,\"#276419\"]],\"sequential\":[[0.0,\"#0d0887\"],[0.1111111111111111,\"#46039f\"],[0.2222222222222222,\"#7201a8\"],[0.3333333333333333,\"#9c179e\"],[0.4444444444444444,\"#bd3786\"],[0.5555555555555556,\"#d8576b\"],[0.6666666666666666,\"#ed7953\"],[0.7777777777777778,\"#fb9f3a\"],[0.8888888888888888,\"#fdca26\"],[1.0,\"#f0f921\"]],\"sequentialminus\":[[0.0,\"#0d0887\"],[0.1111111111111111,\"#46039f\"],[0.2222222222222222,\"#7201a8\"],[0.3333333333333333,\"#9c179e\"],[0.4444444444444444,\"#bd3786\"],[0.5555555555555556,\"#d8576b\"],[0.6666666666666666,\"#ed7953\"],[0.7777777777777778,\"#fb9f3a\"],[0.8888888888888888,\"#fdca26\"],[1.0,\"#f0f921\"]]},\"colorway\":[\"#636efa\",\"#EF553B\",\"#00cc96\",\"#ab63fa\",\"#FFA15A\",\"#19d3f3\",\"#FF6692\",\"#B6E880\",\"#FF97FF\",\"#FECB52\"],\"font\":{\"color\":\"#2a3f5f\"},\"geo\":{\"bgcolor\":\"white\",\"lakecolor\":\"white\",\"landcolor\":\"#E5ECF6\",\"showlakes\":true,\"showland\":true,\"subunitcolor\":\"white\"},\"hoverlabel\":{\"align\":\"left\"},\"hovermode\":\"closest\",\"mapbox\":{\"style\":\"light\"},\"paper_bgcolor\":\"white\",\"plot_bgcolor\":\"#E5ECF6\",\"polar\":{\"angularaxis\":{\"gridcolor\":\"white\",\"linecolor\":\"white\",\"ticks\":\"\"},\"bgcolor\":\"#E5ECF6\",\"radialaxis\":{\"gridcolor\":\"white\",\"linecolor\":\"white\",\"ticks\":\"\"}},\"scene\":{\"xaxis\":{\"backgroundcolor\":\"#E5ECF6\",\"gridcolor\":\"white\",\"gridwidth\":2,\"linecolor\":\"white\",\"showbackground\":true,\"ticks\":\"\",\"zerolinecolor\":\"white\"},\"yaxis\":{\"backgroundcolor\":\"#E5ECF6\",\"gridcolor\":\"white\",\"gridwidth\":2,\"linecolor\":\"white\",\"showbackground\":true,\"ticks\":\"\",\"zerolinecolor\":\"white\"},\"zaxis\":{\"backgroundcolor\":\"#E5ECF6\",\"gridcolor\":\"white\",\"gridwidth\":2,\"linecolor\":\"white\",\"showbackground\":true,\"ticks\":\"\",\"zerolinecolor\":\"white\"}},\"shapedefaults\":{\"line\":{\"color\":\"#2a3f5f\"}},\"ternary\":{\"aaxis\":{\"gridcolor\":\"white\",\"linecolor\":\"white\",\"ticks\":\"\"},\"baxis\":{\"gridcolor\":\"white\",\"linecolor\":\"white\",\"ticks\":\"\"},\"bgcolor\":\"#E5ECF6\",\"caxis\":{\"gridcolor\":\"white\",\"linecolor\":\"white\",\"ticks\":\"\"}},\"title\":{\"x\":0.05},\"xaxis\":{\"automargin\":true,\"gridcolor\":\"white\",\"linecolor\":\"white\",\"ticks\":\"\",\"title\":{\"standoff\":15},\"zerolinecolor\":\"white\",\"zerolinewidth\":2},\"yaxis\":{\"automargin\":true,\"gridcolor\":\"white\",\"linecolor\":\"white\",\"ticks\":\"\",\"title\":{\"standoff\":15},\"zerolinecolor\":\"white\",\"zerolinewidth\":2}}},\"xaxis\":{\"anchor\":\"y\",\"domain\":[0.0,1.0],\"title\":{\"text\":\"Count\"}},\"yaxis\":{\"anchor\":\"x\",\"domain\":[0.0,1.0],\"title\":{\"text\":\"Labels\"}},\"coloraxis\":{\"colorbar\":{\"title\":{\"text\":\"Count\"}},\"colorscale\":[[0.0,\"#0d0887\"],[0.1111111111111111,\"#46039f\"],[0.2222222222222222,\"#7201a8\"],[0.3333333333333333,\"#9c179e\"],[0.4444444444444444,\"#bd3786\"],[0.5555555555555556,\"#d8576b\"],[0.6666666666666666,\"#ed7953\"],[0.7777777777777778,\"#fb9f3a\"],[0.8888888888888888,\"#fdca26\"],[1.0,\"#f0f921\"]]},\"legend\":{\"tracegroupgap\":0},\"margin\":{\"t\":60},\"barmode\":\"relative\",\"height\":400},                        {\"responsive\": true}                    ).then(function(){\n",
       "                            \n",
       "var gd = document.getElementById('9b38a39a-7f42-4bbf-a728-d5331be73915');\n",
       "var x = new MutationObserver(function (mutations, observer) {{\n",
       "        var display = window.getComputedStyle(gd).display;\n",
       "        if (!display || display === 'none') {{\n",
       "            console.log([gd, 'removed!']);\n",
       "            Plotly.purge(gd);\n",
       "            observer.disconnect();\n",
       "        }}\n",
       "}});\n",
       "\n",
       "// Listen for the removal of the full notebook cells\n",
       "var notebookContainer = gd.closest('#notebook-container');\n",
       "if (notebookContainer) {{\n",
       "    x.observe(notebookContainer, {childList: true});\n",
       "}}\n",
       "\n",
       "// Listen for the clearing of the current output cell\n",
       "var outputEl = gd.closest('.output');\n",
       "if (outputEl) {{\n",
       "    x.observe(outputEl, {childList: true});\n",
       "}}\n",
       "\n",
       "                        })                };                });            </script>        </div>"
      ]
     },
     "metadata": {},
     "output_type": "display_data"
    }
   ],
   "source": [
    "# data = px.data.gapminder()\n",
    "\n",
    "data_train = train.groupby('tag')['tag'].count()\n",
    "fig = px.bar(data_train, x='tag',labels={'index':'Labels', 'tag':'Count'},\n",
    "             color='tag', height=400)\n",
    "fig.show()"
   ]
  },
  {
   "cell_type": "markdown",
   "id": "bde2f45b",
   "metadata": {},
   "source": [
    "# Exploratory Data Analysis"
   ]
  },
  {
   "cell_type": "code",
   "execution_count": 4,
   "id": "b9b5cf90",
   "metadata": {
    "scrolled": true
   },
   "outputs": [
    {
     "data": {
      "image/png": "[encoded data removed]",
      "text/plain": [
       "<Figure size 1080x360 with 1 Axes>"
      ]
     },
     "metadata": {
      "needs_background": "light"
     },
     "output_type": "display_data"
    }
   ],
   "source": [
    "train.groupby('tag')['tag'].count().plot(figsize=(15, 5), kind='bar', title='Distribution of Labels in the Training Set')\n",
    "plt.show()"
   ]
  },
  {
   "cell_type": "code",
   "execution_count": 8,
   "id": "df659165",
   "metadata": {},
   "outputs": [
    {
     "name": "stdout",
     "output_type": "stream",
     "text": [
      "img1 height1080\n",
      "img1 width1920\n",
      "img2 height1080\n",
      "img2 width1920\n"
     ]
    },
    {
     "data": {
      "image/png": "[encoded data removed]",
      "text/plain": [
       "<Figure size 1080x288 with 2 Axes>"
      ]
     },
     "metadata": {
      "needs_background": "light"
     },
     "output_type": "display_data"
    }
   ],
   "source": [
    "def plot_image(images, captions=None, cmap=None ):\n",
    "    f, axes = plt.subplots(1, len(images), sharey=True)\n",
    "    f.set_figwidth(15)\n",
    "    for ax,image,caption in zip(axes, images, captions):\n",
    "        ax.imshow(image, cmap)\n",
    "        ax.set_title(caption)\n",
    "\n",
    "# Here, we define some colours\n",
    "SCALAR_BLACK = (0.0,0.0,0.0)\n",
    "SCALAR_WHITE = (255.0,255.0,255.0)\n",
    "SCALAR_YELLOW = (0.0,255.0,255.0)\n",
    "SCALAR_GREEN = (0.0,255.0,0.0)\n",
    "SCALAR_RED = (0.0,0.0,255.0)\n",
    "SCALAR_CYAN = (255.0,255.0,0.0)\n",
    "\n",
    "\n",
    "\n",
    "\n",
    "\n",
    "\n",
    "\n",
    "SHOW_DEBUG_STEPS  = True\n",
    "\n",
    "# Reading video \n",
    "cap = cv2.VideoCapture('C:/Users/Dhanshree/Desktop/Research Project/train-data/gBR_sFM_c01_d04_mBR0_ch01.mp4')\n",
    "\n",
    "# if video is not present, show error\n",
    "if not(cap.isOpened()):\n",
    "    print(\"Error reading file\")\n",
    "\n",
    "# Check if you are able to capture the video    \n",
    "ret, fFrame  = cap.read()\n",
    "\n",
    "# Capturing 2 consecutive frames and making a copy of those frame. Perform all operations on the copy frame. \n",
    "ret, fFrame1 = cap.read()\n",
    "ret, fFrame4 = cap.read()\n",
    "img1 = fFrame1.copy()\n",
    "img2 = fFrame4.copy()\n",
    "\n",
    "if(SHOW_DEBUG_STEPS):\n",
    "    print ('img1 height' + str(img1.shape[0]))\n",
    "    print ('img1 width' + str(img1.shape[1]))\n",
    "    print ('img2 height' + str(img2.shape[0]))\n",
    "    print ('img2 width' + str(img2.shape[1]))\n",
    "\n",
    "# Convert the colour images to greyscale in order to enable fast processing    \n",
    "img1 = cv2.cvtColor(img1, cv2.COLOR_BGR2RGB)\n",
    "img2 = cv2.cvtColor(img2, cv2.COLOR_BGR2RGB)\n",
    "\n",
    "#plotting\n",
    "plot_image([img1, img2], cmap='gray', captions=[\"First frame\", \"Second frame\"])"
   ]
  },
  {
   "cell_type": "code",
   "execution_count": 6,
   "id": "9fd60446",
   "metadata": {},
   "outputs": [
    {
     "name": "stderr",
     "output_type": "stream",
     "text": [
      "100%|████████████████████████████████████████████████████████████████████████████████| 179/179 [53:09<00:00, 17.82s/it]\n"
     ]
    }
   ],
   "source": [
    "# Extracting frames from videos\n",
    "\n",
    "for i in tqdm(range(train_name.shape[0])):\n",
    "    count = 0\n",
    "    videoFile = train_name[i]\n",
    "    cap = cv2.VideoCapture('train-data/'+videoFile)   # capturing the video from the given path\n",
    "    frameRate = cap.get(5) #frame rate\n",
    "    x=1\n",
    "    while(cap.isOpened()):\n",
    "        frameId = cap.get(1) #current frame number\n",
    "        ret, frame = cap.read()\n",
    "        if (ret != True):\n",
    "            break\n",
    "        if (frameId % math.floor(frameRate) == 0):\n",
    "            # storing the frames in a new folder \n",
    "            filename ='traindata-frames/' + videoFile +\"_frame%d.jpg\" % count;count+=1  # storing frames in the given path\n",
    "            cv2.imwrite(filename, frame)\n",
    "    cap.release()\n",
    "\n",
    "# storing the frames from test videos\n",
    "for i in tqdm(range(test_name.shape[0])):\n",
    "    count = 0\n",
    "    videoFile = test_name[i]\n",
    "    cap = cv2.VideoCapture('test-data/'+videoFile)   # capturing the video from the given path\n",
    "    frameRate = cap.get(5) #frame rate\n",
    "    x=1\n",
    "    while(cap.isOpened()):\n",
    "        frameId = cap.get(1) #current frame number\n",
    "        ret, frame = cap.read()\n",
    "        if (ret != True):\n",
    "            break\n",
    "        if (frameId % math.floor(frameRate) == 0):\n",
    "            # storing the frames in a new folder named train_1\n",
    "            filename ='testdata-frame/' + videoFile +\"_frame%d.jpg\" % count;count+=1  # storing frames in the given path\n",
    "            cv2.imwrite(filename, frame)\n",
    "    cap.release()"
   ]
  },
  {
   "cell_type": "code",
   "execution_count": 8,
   "id": "e028608c",
   "metadata": {},
   "outputs": [
    {
     "data": {
      "text/html": [
       "<div>\n",
       "<style scoped>\n",
       "    .dataframe tbody tr th:only-of-type {\n",
       "        vertical-align: middle;\n",
       "    }\n",
       "\n",
       "    .dataframe tbody tr th {\n",
       "        vertical-align: top;\n",
       "    }\n",
       "\n",
       "    .dataframe thead th {\n",
       "        text-align: right;\n",
       "    }\n",
       "</style>\n",
       "<table border=\"1\" class=\"dataframe\">\n",
       "  <thead>\n",
       "    <tr style=\"text-align: right;\">\n",
       "      <th></th>\n",
       "      <th>video_name</th>\n",
       "      <th>tag</th>\n",
       "    </tr>\n",
       "  </thead>\n",
       "  <tbody>\n",
       "    <tr>\n",
       "      <th>0</th>\n",
       "      <td>gBR_sFM_c01_d04_mBR0_ch01.mp4</td>\n",
       "      <td>gBR</td>\n",
       "    </tr>\n",
       "    <tr>\n",
       "      <th>1</th>\n",
       "      <td>gBR_sFM_c01_d04_mBR1_ch02.mp4</td>\n",
       "      <td>gBR</td>\n",
       "    </tr>\n",
       "    <tr>\n",
       "      <th>2</th>\n",
       "      <td>gBR_sFM_c01_d04_mBR2_ch03.mp4</td>\n",
       "      <td>gBR</td>\n",
       "    </tr>\n",
       "    <tr>\n",
       "      <th>3</th>\n",
       "      <td>gBR_sFM_c01_d04_mBR4_ch05.mp4</td>\n",
       "      <td>gBR</td>\n",
       "    </tr>\n",
       "    <tr>\n",
       "      <th>4</th>\n",
       "      <td>gBR_sFM_c01_d04_mBR4_ch07.mp4</td>\n",
       "      <td>gBR</td>\n",
       "    </tr>\n",
       "    <tr>\n",
       "      <th>...</th>\n",
       "      <td>...</td>\n",
       "      <td>...</td>\n",
       "    </tr>\n",
       "    <tr>\n",
       "      <th>174</th>\n",
       "      <td>gWA_sFM_c01_d27_mWA1_ch16.mp4</td>\n",
       "      <td>gWA</td>\n",
       "    </tr>\n",
       "    <tr>\n",
       "      <th>175</th>\n",
       "      <td>gWA_sFM_c01_d27_mWA2_ch17.mp4</td>\n",
       "      <td>gWA</td>\n",
       "    </tr>\n",
       "    <tr>\n",
       "      <th>176</th>\n",
       "      <td>gWA_sFM_c01_d27_mWA2_ch21.mp4</td>\n",
       "      <td>gWA</td>\n",
       "    </tr>\n",
       "    <tr>\n",
       "      <th>177</th>\n",
       "      <td>gWA_sFM_c01_d27_mWA3_ch18.mp4</td>\n",
       "      <td>gWA</td>\n",
       "    </tr>\n",
       "    <tr>\n",
       "      <th>178</th>\n",
       "      <td>gWA_sFM_c01_d27_mWA4_ch19.mp4</td>\n",
       "      <td>gWA</td>\n",
       "    </tr>\n",
       "  </tbody>\n",
       "</table>\n",
       "<p>179 rows × 2 columns</p>\n",
       "</div>"
      ],
      "text/plain": [
       "                        video_name  tag\n",
       "0    gBR_sFM_c01_d04_mBR0_ch01.mp4  gBR\n",
       "1    gBR_sFM_c01_d04_mBR1_ch02.mp4  gBR\n",
       "2    gBR_sFM_c01_d04_mBR2_ch03.mp4  gBR\n",
       "3    gBR_sFM_c01_d04_mBR4_ch05.mp4  gBR\n",
       "4    gBR_sFM_c01_d04_mBR4_ch07.mp4  gBR\n",
       "..                             ...  ...\n",
       "174  gWA_sFM_c01_d27_mWA1_ch16.mp4  gWA\n",
       "175  gWA_sFM_c01_d27_mWA2_ch17.mp4  gWA\n",
       "176  gWA_sFM_c01_d27_mWA2_ch21.mp4  gWA\n",
       "177  gWA_sFM_c01_d27_mWA3_ch18.mp4  gWA\n",
       "178  gWA_sFM_c01_d27_mWA4_ch19.mp4  gWA\n",
       "\n",
       "[179 rows x 2 columns]"
      ]
     },
     "execution_count": 8,
     "metadata": {},
     "output_type": "execute_result"
    }
   ],
   "source": [
    "train\n",
    "# gJB_sFM_c01_d08_mJB5_ch14.mp4_frame19   gBR_sFM_c01_d04_mBR0_ch01.mp4_frame12.jpg"
   ]
  },
  {
   "cell_type": "code",
   "execution_count": 3,
   "id": "d69ef2c4",
   "metadata": {
    "scrolled": true
   },
   "outputs": [
    {
     "name": "stderr",
     "output_type": "stream",
     "text": [
      "100%|██████████████████████████████████████████████████████████████████████████| 6638/6638 [00:00<00:00, 424851.45it/s]\n"
     ]
    }
   ],
   "source": [
    "# getting the names of all the images\n",
    "images = glob(\"traindata-frames/*.jpg\")\n",
    "train_image = []\n",
    "train_class = []\n",
    "for i in tqdm(range(len(images))):\n",
    "    # creating the image name\n",
    "    train_image.append(images[i].split('\\\\')[1])\n",
    "    # creating the class of image\n",
    "    train_class.append(images[i].split('_')[0].split('\\\\')[1])\n",
    "    \n",
    "# storing the images and their class in a dataframe\n",
    "train_data = pd.DataFrame()  # creating a dataframe\n",
    "train_data['image_name'] = train_image\n",
    "train_data['class'] = train_class\n",
    "\n",
    "# converting the dataframe into excel file \n",
    "train_data.to_excel('C:/Users/Dhanshree/Desktop/Research Project/new-frames.xlsx',header=True, index=False)"
   ]
  },
  {
   "cell_type": "markdown",
   "id": "261e9da7",
   "metadata": {},
   "source": [
    "# Training the Model"
   ]
  },
  {
   "cell_type": "code",
   "execution_count": 4,
   "id": "4593c82e",
   "metadata": {},
   "outputs": [
    {
     "data": {
      "text/html": [
       "<div>\n",
       "<style scoped>\n",
       "    .dataframe tbody tr th:only-of-type {\n",
       "        vertical-align: middle;\n",
       "    }\n",
       "\n",
       "    .dataframe tbody tr th {\n",
       "        vertical-align: top;\n",
       "    }\n",
       "\n",
       "    .dataframe thead th {\n",
       "        text-align: right;\n",
       "    }\n",
       "</style>\n",
       "<table border=\"1\" class=\"dataframe\">\n",
       "  <thead>\n",
       "    <tr style=\"text-align: right;\">\n",
       "      <th></th>\n",
       "      <th>image_name</th>\n",
       "      <th>class</th>\n",
       "    </tr>\n",
       "  </thead>\n",
       "  <tbody>\n",
       "    <tr>\n",
       "      <th>0</th>\n",
       "      <td>gBR_sFM_c01_d04_mBR0_ch01.mp4_frame0.jpg</td>\n",
       "      <td>gBR</td>\n",
       "    </tr>\n",
       "    <tr>\n",
       "      <th>1</th>\n",
       "      <td>gBR_sFM_c01_d04_mBR0_ch01.mp4_frame1.jpg</td>\n",
       "      <td>gBR</td>\n",
       "    </tr>\n",
       "    <tr>\n",
       "      <th>2</th>\n",
       "      <td>gBR_sFM_c01_d04_mBR0_ch01.mp4_frame10.jpg</td>\n",
       "      <td>gBR</td>\n",
       "    </tr>\n",
       "    <tr>\n",
       "      <th>3</th>\n",
       "      <td>gBR_sFM_c01_d04_mBR0_ch01.mp4_frame11.jpg</td>\n",
       "      <td>gBR</td>\n",
       "    </tr>\n",
       "    <tr>\n",
       "      <th>4</th>\n",
       "      <td>gBR_sFM_c01_d04_mBR0_ch01.mp4_frame12.jpg</td>\n",
       "      <td>gBR</td>\n",
       "    </tr>\n",
       "  </tbody>\n",
       "</table>\n",
       "</div>"
      ],
      "text/plain": [
       "                                  image_name class\n",
       "0   gBR_sFM_c01_d04_mBR0_ch01.mp4_frame0.jpg   gBR\n",
       "1   gBR_sFM_c01_d04_mBR0_ch01.mp4_frame1.jpg   gBR\n",
       "2  gBR_sFM_c01_d04_mBR0_ch01.mp4_frame10.jpg   gBR\n",
       "3  gBR_sFM_c01_d04_mBR0_ch01.mp4_frame11.jpg   gBR\n",
       "4  gBR_sFM_c01_d04_mBR0_ch01.mp4_frame12.jpg   gBR"
      ]
     },
     "execution_count": 4,
     "metadata": {},
     "output_type": "execute_result"
    }
   ],
   "source": [
    "train_data = pd.read_excel('new-frames.xlsx') # fetching data from excel file\n",
    "train_data.head()"
   ]
  },
  {
   "cell_type": "code",
   "execution_count": 5,
   "id": "e7722708",
   "metadata": {},
   "outputs": [
    {
     "name": "stderr",
     "output_type": "stream",
     "text": [
      "100%|██████████████████████████████████████████████████████████████████████████████| 6638/6638 [02:49<00:00, 39.14it/s]\n"
     ]
    },
    {
     "data": {
      "text/plain": [
       "(6638, 224, 224, 3)"
      ]
     },
     "execution_count": 5,
     "metadata": {},
     "output_type": "execute_result"
    }
   ],
   "source": [
    "from keras.preprocessing import image\n",
    "\n",
    "# creating an empty list\n",
    "train_image = []\n",
    "\n",
    "# for loop to read and store frames\n",
    "for i in tqdm(range(train_data.shape[0])):\n",
    "    # loading the image and keeping the target size as (224,224,3) for reducing computational complexity\n",
    "    img = image.load_img('traindata-frames/'+train_data['image_name'][i], target_size=(224,224,3))\n",
    "    # converting it to array\n",
    "    img1 = image.img_to_array(img)\n",
    "    # normalizing the pixel value \n",
    "    img1 = img1/255\n",
    "    # appending the image to the train_image list\n",
    "    train_image.append(img1)\n",
    "    \n",
    "# converting the list to numpy array\n",
    "X = np.array(train_image)\n",
    "\n",
    "# shape of the array\n",
    "X.shape\n"
   ]
  },
  {
   "cell_type": "markdown",
   "id": "837aa3b1",
   "metadata": {},
   "source": [
    "# Creating Validation Set"
   ]
  },
  {
   "cell_type": "code",
   "execution_count": 7,
   "id": "ea738f9d",
   "metadata": {},
   "outputs": [],
   "source": [
    "# separating the target\n",
    "y = train_data['class']                         \n",
    "\n",
    "# creating the training and validation set\n",
    "X_train, X_test, y_train, y_test = train_test_split(X, y, random_state=42, test_size=0.2, stratify = y)"
   ]
  },
  {
   "cell_type": "code",
   "execution_count": 8,
   "id": "c935aa5c",
   "metadata": {},
   "outputs": [],
   "source": [
    "# creating dummies of target variable for train and validation set\n",
    "y_train = pd.get_dummies(y_train)\n",
    "y_test = pd.get_dummies(y_test)"
   ]
  },
  {
   "cell_type": "code",
   "execution_count": 8,
   "id": "0ce9850f",
   "metadata": {},
   "outputs": [
    {
     "data": {
      "text/plain": [
       "array([[[[0.7647059 , 0.7647059 , 0.73333335],\n",
       "         [0.7490196 , 0.74509805, 0.7254902 ],\n",
       "         [0.74509805, 0.74509805, 0.7137255 ],\n",
       "         ...,\n",
       "         [0.77254903, 0.77254903, 0.7411765 ],\n",
       "         [0.7882353 , 0.7882353 , 0.75686276],\n",
       "         [0.79607844, 0.79607844, 0.7647059 ]],\n",
       "\n",
       "        [[0.77254903, 0.77254903, 0.7411765 ],\n",
       "         [0.7647059 , 0.7607843 , 0.7411765 ],\n",
       "         [0.7529412 , 0.7529412 , 0.72156864],\n",
       "         ...,\n",
       "         [0.78431374, 0.78431374, 0.7529412 ],\n",
       "         [0.79607844, 0.79607844, 0.7647059 ],\n",
       "         [0.8       , 0.8       , 0.76862746]],\n",
       "\n",
       "        [[0.78039217, 0.78039217, 0.7490196 ],\n",
       "         [0.77254903, 0.76862746, 0.7490196 ],\n",
       "         [0.7647059 , 0.7647059 , 0.73333335],\n",
       "         ...,\n",
       "         [0.7882353 , 0.78431374, 0.7647059 ],\n",
       "         [0.8       , 0.79607844, 0.7764706 ],\n",
       "         [0.8156863 , 0.8156863 , 0.78431374]],\n",
       "\n",
       "        ...,\n",
       "\n",
       "        [[1.        , 1.        , 1.        ],\n",
       "         [1.        , 1.        , 1.        ],\n",
       "         [1.        , 1.        , 1.        ],\n",
       "         ...,\n",
       "         [1.        , 1.        , 1.        ],\n",
       "         [1.        , 1.        , 1.        ],\n",
       "         [1.        , 1.        , 1.        ]],\n",
       "\n",
       "        [[1.        , 1.        , 1.        ],\n",
       "         [1.        , 1.        , 1.        ],\n",
       "         [1.        , 1.        , 1.        ],\n",
       "         ...,\n",
       "         [1.        , 1.        , 1.        ],\n",
       "         [1.        , 1.        , 1.        ],\n",
       "         [1.        , 1.        , 1.        ]],\n",
       "\n",
       "        [[1.        , 1.        , 1.        ],\n",
       "         [1.        , 1.        , 1.        ],\n",
       "         [1.        , 1.        , 1.        ],\n",
       "         ...,\n",
       "         [1.        , 1.        , 1.        ],\n",
       "         [1.        , 1.        , 1.        ],\n",
       "         [1.        , 1.        , 1.        ]]],\n",
       "\n",
       "\n",
       "       [[[0.58431375, 0.5882353 , 0.5568628 ],\n",
       "         [0.5764706 , 0.5803922 , 0.54901963],\n",
       "         [0.57254905, 0.57254905, 0.5411765 ],\n",
       "         ...,\n",
       "         [0.6039216 , 0.60784316, 0.5764706 ],\n",
       "         [0.6156863 , 0.6156863 , 0.58431375],\n",
       "         [0.61960787, 0.62352943, 0.5921569 ]],\n",
       "\n",
       "        [[0.5921569 , 0.59607846, 0.5647059 ],\n",
       "         [0.58431375, 0.5882353 , 0.5568628 ],\n",
       "         [0.5764706 , 0.5764706 , 0.54509807],\n",
       "         ...,\n",
       "         [0.6156863 , 0.61960787, 0.5882353 ],\n",
       "         [0.62352943, 0.62352943, 0.5921569 ],\n",
       "         [0.62352943, 0.627451  , 0.59607846]],\n",
       "\n",
       "        [[0.59607846, 0.6       , 0.5686275 ],\n",
       "         [0.5882353 , 0.5921569 , 0.56078434],\n",
       "         [0.5882353 , 0.5882353 , 0.5568628 ],\n",
       "         ...,\n",
       "         [0.61960787, 0.62352943, 0.5921569 ],\n",
       "         [0.627451  , 0.627451  , 0.59607846],\n",
       "         [0.627451  , 0.6313726 , 0.6       ]],\n",
       "\n",
       "        ...,\n",
       "\n",
       "        [[0.8627451 , 0.87058824, 0.8509804 ],\n",
       "         [0.8627451 , 0.87058824, 0.8509804 ],\n",
       "         [0.8666667 , 0.8745098 , 0.85490197],\n",
       "         ...,\n",
       "         [0.8784314 , 0.8862745 , 0.8666667 ],\n",
       "         [0.8784314 , 0.8980392 , 0.8745098 ],\n",
       "         [0.8784314 , 0.8980392 , 0.8745098 ]],\n",
       "\n",
       "        [[0.85490197, 0.8745098 , 0.8509804 ],\n",
       "         [0.85882354, 0.8784314 , 0.85490197],\n",
       "         [0.8666667 , 0.8745098 , 0.85490197],\n",
       "         ...,\n",
       "         [0.88235295, 0.9019608 , 0.8784314 ],\n",
       "         [0.8784314 , 0.8980392 , 0.8745098 ],\n",
       "         [0.8784314 , 0.8980392 , 0.8745098 ]],\n",
       "\n",
       "        [[0.85490197, 0.8745098 , 0.8509804 ],\n",
       "         [0.85490197, 0.8745098 , 0.8509804 ],\n",
       "         [0.8666667 , 0.8745098 , 0.85490197],\n",
       "         ...,\n",
       "         [0.88235295, 0.9019608 , 0.8784314 ],\n",
       "         [0.8862745 , 0.90588236, 0.88235295],\n",
       "         [0.8745098 , 0.89411765, 0.87058824]]],\n",
       "\n",
       "\n",
       "       [[[0.75686276, 0.75686276, 0.70980394],\n",
       "         [0.74509805, 0.74509805, 0.69803923],\n",
       "         [0.7372549 , 0.7372549 , 0.6901961 ],\n",
       "         ...,\n",
       "         [0.78431374, 0.78431374, 0.7372549 ],\n",
       "         [0.79607844, 0.79607844, 0.7490196 ],\n",
       "         [0.80784315, 0.80784315, 0.7607843 ]],\n",
       "\n",
       "        [[0.7647059 , 0.7647059 , 0.7176471 ],\n",
       "         [0.7529412 , 0.7529412 , 0.7058824 ],\n",
       "         [0.7411765 , 0.7411765 , 0.69411767],\n",
       "         ...,\n",
       "         [0.7882353 , 0.7882353 , 0.7411765 ],\n",
       "         [0.8039216 , 0.8039216 , 0.75686276],\n",
       "         [0.8156863 , 0.8156863 , 0.76862746]],\n",
       "\n",
       "        [[0.77254903, 0.77254903, 0.7254902 ],\n",
       "         [0.7607843 , 0.7607843 , 0.7137255 ],\n",
       "         [0.74509805, 0.74509805, 0.69803923],\n",
       "         ...,\n",
       "         [0.8       , 0.8       , 0.7529412 ],\n",
       "         [0.8117647 , 0.8117647 , 0.7647059 ],\n",
       "         [0.81960785, 0.81960785, 0.77254903]],\n",
       "\n",
       "        ...,\n",
       "\n",
       "        [[1.        , 1.        , 1.        ],\n",
       "         [1.        , 1.        , 1.        ],\n",
       "         [1.        , 1.        , 1.        ],\n",
       "         ...,\n",
       "         [1.        , 1.        , 1.        ],\n",
       "         [1.        , 1.        , 1.        ],\n",
       "         [1.        , 1.        , 1.        ]],\n",
       "\n",
       "        [[1.        , 1.        , 1.        ],\n",
       "         [1.        , 1.        , 1.        ],\n",
       "         [1.        , 1.        , 1.        ],\n",
       "         ...,\n",
       "         [1.        , 1.        , 1.        ],\n",
       "         [1.        , 1.        , 1.        ],\n",
       "         [1.        , 1.        , 1.        ]],\n",
       "\n",
       "        [[1.        , 1.        , 1.        ],\n",
       "         [1.        , 1.        , 1.        ],\n",
       "         [1.        , 1.        , 1.        ],\n",
       "         ...,\n",
       "         [1.        , 1.        , 1.        ],\n",
       "         [1.        , 1.        , 1.        ],\n",
       "         [1.        , 1.        , 1.        ]]],\n",
       "\n",
       "\n",
       "       ...,\n",
       "\n",
       "\n",
       "       [[[0.6509804 , 0.6509804 , 0.6117647 ],\n",
       "         [0.6431373 , 0.6431373 , 0.6039216 ],\n",
       "         [0.6392157 , 0.6392157 , 0.6       ],\n",
       "         ...,\n",
       "         [0.6784314 , 0.6784314 , 0.6392157 ],\n",
       "         [0.68235296, 0.68235296, 0.6431373 ],\n",
       "         [0.69411767, 0.7019608 , 0.65882355]],\n",
       "\n",
       "        [[0.654902  , 0.654902  , 0.6156863 ],\n",
       "         [0.6509804 , 0.6509804 , 0.6117647 ],\n",
       "         [0.64705884, 0.64705884, 0.60784316],\n",
       "         ...,\n",
       "         [0.68235296, 0.68235296, 0.6431373 ],\n",
       "         [0.69411767, 0.69411767, 0.654902  ],\n",
       "         [0.7019608 , 0.70980394, 0.6666667 ]],\n",
       "\n",
       "        [[0.67058825, 0.67058825, 0.6313726 ],\n",
       "         [0.654902  , 0.654902  , 0.6156863 ],\n",
       "         [0.654902  , 0.654902  , 0.6156863 ],\n",
       "         ...,\n",
       "         [0.6901961 , 0.69803923, 0.654902  ],\n",
       "         [0.69803923, 0.7058824 , 0.6627451 ],\n",
       "         [0.7058824 , 0.7137255 , 0.67058825]],\n",
       "\n",
       "        ...,\n",
       "\n",
       "        [[0.95686275, 0.96862745, 0.9411765 ],\n",
       "         [0.95686275, 0.96862745, 0.9411765 ],\n",
       "         [0.9647059 , 0.9764706 , 0.9490196 ],\n",
       "         ...,\n",
       "         [0.9647059 , 0.9843137 , 0.95686275],\n",
       "         [0.972549  , 0.99215686, 0.9647059 ],\n",
       "         [0.972549  , 0.99215686, 0.9647059 ]],\n",
       "\n",
       "        [[0.95686275, 0.96862745, 0.9411765 ],\n",
       "         [0.9647059 , 0.9764706 , 0.9490196 ],\n",
       "         [0.95686275, 0.9764706 , 0.9490196 ],\n",
       "         ...,\n",
       "         [0.98039216, 0.9882353 , 0.96862745],\n",
       "         [0.972549  , 0.99215686, 0.9647059 ],\n",
       "         [0.972549  , 0.99215686, 0.9647059 ]],\n",
       "\n",
       "        [[0.95686275, 0.96862745, 0.9411765 ],\n",
       "         [0.9647059 , 0.9764706 , 0.9490196 ],\n",
       "         [0.95686275, 0.9764706 , 0.9490196 ],\n",
       "         ...,\n",
       "         [0.98039216, 0.9882353 , 0.96862745],\n",
       "         [0.972549  , 0.99215686, 0.9647059 ],\n",
       "         [0.972549  , 0.99215686, 0.9647059 ]]],\n",
       "\n",
       "\n",
       "       [[[0.67058825, 0.67058825, 0.6313726 ],\n",
       "         [0.6666667 , 0.6666667 , 0.627451  ],\n",
       "         [0.6666667 , 0.6666667 , 0.627451  ],\n",
       "         ...,\n",
       "         [0.6901961 , 0.6901961 , 0.6509804 ],\n",
       "         [0.7058824 , 0.7058824 , 0.6666667 ],\n",
       "         [0.70980394, 0.70980394, 0.67058825]],\n",
       "\n",
       "        [[0.68235296, 0.68235296, 0.6431373 ],\n",
       "         [0.6745098 , 0.6745098 , 0.63529414],\n",
       "         [0.67058825, 0.67058825, 0.6313726 ],\n",
       "         ...,\n",
       "         [0.69803923, 0.69803923, 0.65882355],\n",
       "         [0.70980394, 0.70980394, 0.67058825],\n",
       "         [0.7176471 , 0.7176471 , 0.6784314 ]],\n",
       "\n",
       "        [[0.68235296, 0.68235296, 0.6431373 ],\n",
       "         [0.68235296, 0.68235296, 0.6431373 ],\n",
       "         [0.6745098 , 0.6745098 , 0.63529414],\n",
       "         ...,\n",
       "         [0.70980394, 0.70980394, 0.67058825],\n",
       "         [0.7176471 , 0.7176471 , 0.6784314 ],\n",
       "         [0.7294118 , 0.7294118 , 0.6901961 ]],\n",
       "\n",
       "        ...,\n",
       "\n",
       "        [[1.        , 1.        , 1.        ],\n",
       "         [1.        , 1.        , 1.        ],\n",
       "         [1.        , 1.        , 1.        ],\n",
       "         ...,\n",
       "         [1.        , 1.        , 1.        ],\n",
       "         [1.        , 1.        , 1.        ],\n",
       "         [1.        , 1.        , 1.        ]],\n",
       "\n",
       "        [[1.        , 1.        , 1.        ],\n",
       "         [1.        , 1.        , 1.        ],\n",
       "         [1.        , 1.        , 1.        ],\n",
       "         ...,\n",
       "         [1.        , 1.        , 1.        ],\n",
       "         [1.        , 1.        , 1.        ],\n",
       "         [1.        , 1.        , 1.        ]],\n",
       "\n",
       "        [[1.        , 1.        , 1.        ],\n",
       "         [1.        , 1.        , 1.        ],\n",
       "         [1.        , 1.        , 1.        ],\n",
       "         ...,\n",
       "         [1.        , 1.        , 1.        ],\n",
       "         [1.        , 1.        , 1.        ],\n",
       "         [1.        , 1.        , 1.        ]]],\n",
       "\n",
       "\n",
       "       [[[0.7607843 , 0.7607843 , 0.72156864],\n",
       "         [0.74509805, 0.74509805, 0.7058824 ],\n",
       "         [0.7411765 , 0.7411765 , 0.70980394],\n",
       "         ...,\n",
       "         [0.77254903, 0.77254903, 0.7411765 ],\n",
       "         [0.79607844, 0.7764706 , 0.7607843 ],\n",
       "         [0.79607844, 0.79607844, 0.7647059 ]],\n",
       "\n",
       "        [[0.76862746, 0.76862746, 0.7294118 ],\n",
       "         [0.7607843 , 0.7607843 , 0.72156864],\n",
       "         [0.7490196 , 0.7490196 , 0.7176471 ],\n",
       "         ...,\n",
       "         [0.78431374, 0.78431374, 0.7529412 ],\n",
       "         [0.79607844, 0.78431374, 0.7647059 ],\n",
       "         [0.8       , 0.8       , 0.76862746]],\n",
       "\n",
       "        [[0.7764706 , 0.7764706 , 0.7372549 ],\n",
       "         [0.7647059 , 0.7647059 , 0.7254902 ],\n",
       "         [0.75686276, 0.75686276, 0.7254902 ],\n",
       "         ...,\n",
       "         [0.7882353 , 0.7882353 , 0.75686276],\n",
       "         [0.80784315, 0.79607844, 0.7764706 ],\n",
       "         [0.8156863 , 0.8156863 , 0.78431374]],\n",
       "\n",
       "        ...,\n",
       "\n",
       "        [[1.        , 1.        , 1.        ],\n",
       "         [1.        , 1.        , 1.        ],\n",
       "         [1.        , 1.        , 1.        ],\n",
       "         ...,\n",
       "         [1.        , 1.        , 1.        ],\n",
       "         [1.        , 1.        , 1.        ],\n",
       "         [1.        , 1.        , 1.        ]],\n",
       "\n",
       "        [[1.        , 1.        , 1.        ],\n",
       "         [1.        , 1.        , 1.        ],\n",
       "         [1.        , 1.        , 1.        ],\n",
       "         ...,\n",
       "         [1.        , 1.        , 1.        ],\n",
       "         [1.        , 1.        , 1.        ],\n",
       "         [1.        , 1.        , 1.        ]],\n",
       "\n",
       "        [[1.        , 1.        , 1.        ],\n",
       "         [1.        , 1.        , 1.        ],\n",
       "         [1.        , 1.        , 1.        ],\n",
       "         ...,\n",
       "         [1.        , 1.        , 1.        ],\n",
       "         [1.        , 1.        , 1.        ],\n",
       "         [1.        , 1.        , 1.        ]]]], dtype=float32)"
      ]
     },
     "execution_count": 8,
     "metadata": {},
     "output_type": "execute_result"
    }
   ],
   "source": [
    "X_test"
   ]
  },
  {
   "cell_type": "markdown",
   "id": "058868d5",
   "metadata": {},
   "source": [
    "# Defining Architecture of Model"
   ]
  },
  {
   "cell_type": "code",
   "execution_count": 9,
   "id": "424932d3",
   "metadata": {},
   "outputs": [],
   "source": [
    "# creating the base model of pre-trained VGG16 model\n",
    "base_model = VGG16(weights='imagenet', include_top=False)"
   ]
  },
  {
   "cell_type": "code",
   "execution_count": 10,
   "id": "39d10a8f",
   "metadata": {},
   "outputs": [
    {
     "data": {
      "text/plain": [
       "(1328, 7, 7, 512)"
      ]
     },
     "execution_count": 10,
     "metadata": {},
     "output_type": "execute_result"
    }
   ],
   "source": [
    "# extracting features for training frames\n",
    "X_train = base_model.predict(X_train)\n",
    "X_train.shape\n",
    "\n",
    "# extracting features for validation frames\n",
    "X_test = base_model.predict(X_test)\n",
    "X_test.shape"
   ]
  },
  {
   "cell_type": "code",
   "execution_count": 33,
   "id": "f9128b90",
   "metadata": {},
   "outputs": [
    {
     "data": {
      "text/plain": [
       "(5310, 25088)"
      ]
     },
     "execution_count": 33,
     "metadata": {},
     "output_type": "execute_result"
    }
   ],
   "source": [
    "X_train.shape"
   ]
  },
  {
   "cell_type": "markdown",
   "id": "9a2581a4",
   "metadata": {},
   "source": [
    "Fine-tuning the model"
   ]
  },
  {
   "cell_type": "code",
   "execution_count": 17,
   "id": "5d14bb02",
   "metadata": {},
   "outputs": [],
   "source": [
    "X_train = X_train.reshape(5310, 7*7*512)\n",
    "X_test = X_test.reshape(1328, 7*7*512)\n",
    "\n",
    "# normalizing the pixel values\n",
    "max = X_train.max()\n",
    "X_train = X_train/max\n",
    "X_test = X_test/max"
   ]
  },
  {
   "cell_type": "code",
   "execution_count": 190,
   "id": "ba341582",
   "metadata": {},
   "outputs": [],
   "source": [
    "#defining the model architecture\n",
    "model = Sequential()\n",
    "model.add(Dense(1024, activation='relu', input_shape=(25088,)))\n",
    "model.add(Dropout(0.5))\n",
    "model.add(Dense(512, activation='relu'))\n",
    "model.add(Dropout(0.5))\n",
    "model.add(Dense(256, activation='relu'))\n",
    "model.add(Dropout(0.5))\n",
    "model.add(Dense(128, activation='relu'))\n",
    "model.add(Dropout(0.5))\n",
    "model.add(Dense(10, activation='softmax'))"
   ]
  },
  {
   "cell_type": "code",
   "execution_count": 113,
   "id": "af17be71",
   "metadata": {},
   "outputs": [
    {
     "name": "stdout",
     "output_type": "stream",
     "text": [
      "Model: \"sequential_13\"\n",
      "_________________________________________________________________\n",
      "Layer (type)                 Output Shape              Param #   \n",
      "=================================================================\n",
      "dense_65 (Dense)             (None, 1024)              25691136  \n",
      "_________________________________________________________________\n",
      "dense_66 (Dense)             (None, 512)               524800    \n",
      "_________________________________________________________________\n",
      "dense_67 (Dense)             (None, 256)               131328    \n",
      "_________________________________________________________________\n",
      "dropout_48 (Dropout)         (None, 256)               0         \n",
      "_________________________________________________________________\n",
      "dense_68 (Dense)             (None, 128)               32896     \n",
      "_________________________________________________________________\n",
      "dropout_49 (Dropout)         (None, 128)               0         \n",
      "_________________________________________________________________\n",
      "dense_69 (Dense)             (None, 10)                1290      \n",
      "=================================================================\n",
      "Total params: 26,381,450\n",
      "Trainable params: 26,381,450\n",
      "Non-trainable params: 0\n",
      "_________________________________________________________________\n"
     ]
    }
   ],
   "source": [
    "model.summary()"
   ]
  },
  {
   "cell_type": "markdown",
   "id": "748a64c2",
   "metadata": {},
   "source": [
    "# Training the model"
   ]
  },
  {
   "cell_type": "code",
   "execution_count": 191,
   "id": "d0a3c1e8",
   "metadata": {},
   "outputs": [],
   "source": [
    "# defining a function to save the weights of best model\n",
    "from keras.callbacks import ModelCheckpoint\n",
    "mcp_save = ModelCheckpoint('weight.hdf5', save_best_only=True, monitor='val_loss', mode='min')"
   ]
  },
  {
   "cell_type": "code",
   "execution_count": 192,
   "id": "7c776695",
   "metadata": {},
   "outputs": [],
   "source": [
    "# compiling the model\n",
    "model.compile(loss='categorical_crossentropy',optimizer='Adam',metrics=['accuracy'])"
   ]
  },
  {
   "cell_type": "code",
   "execution_count": 144,
   "id": "fdecd992",
   "metadata": {
    "scrolled": true
   },
   "outputs": [
    {
     "name": "stdout",
     "output_type": "stream",
     "text": [
      "Epoch 1/18\n",
      "152/152 [==============================] - 24s 158ms/step - loss: 2.2270 - accuracy: 0.1492 - val_loss: 1.7846 - val_accuracy: 0.2312\n",
      "Epoch 2/18\n",
      "152/152 [==============================] - 24s 156ms/step - loss: 1.6151 - accuracy: 0.3356 - val_loss: 1.0196 - val_accuracy: 0.6898\n",
      "Epoch 3/18\n",
      "152/152 [==============================] - 23s 154ms/step - loss: 1.0636 - accuracy: 0.5298 - val_loss: 0.7100 - val_accuracy: 0.6566\n",
      "Epoch 4/18\n",
      "152/152 [==============================] - 24s 157ms/step - loss: 0.8468 - accuracy: 0.6358 - val_loss: 0.3992 - val_accuracy: 0.8630\n",
      "Epoch 5/18\n",
      "152/152 [==============================] - 23s 149ms/step - loss: 0.7571 - accuracy: 0.6857 - val_loss: 0.4342 - val_accuracy: 0.8163\n",
      "Epoch 6/18\n",
      "152/152 [==============================] - 24s 158ms/step - loss: 0.7041 - accuracy: 0.7136 - val_loss: 0.3253 - val_accuracy: 0.8901\n",
      "Epoch 7/18\n",
      "152/152 [==============================] - 23s 154ms/step - loss: 0.7492 - accuracy: 0.6998 - val_loss: 0.3232 - val_accuracy: 0.9006\n",
      "Epoch 8/18\n",
      "152/152 [==============================] - 23s 151ms/step - loss: 0.7577 - accuracy: 0.7079 - val_loss: 0.3246 - val_accuracy: 0.9119\n",
      "Epoch 9/18\n",
      "152/152 [==============================] - 24s 155ms/step - loss: 0.7557 - accuracy: 0.7060 - val_loss: 0.3887 - val_accuracy: 0.8637\n",
      "Epoch 10/18\n",
      "152/152 [==============================] - 24s 159ms/step - loss: 0.6526 - accuracy: 0.7480 - val_loss: 0.2196 - val_accuracy: 0.9676\n",
      "Epoch 11/18\n",
      "152/152 [==============================] - 23s 152ms/step - loss: 0.6254 - accuracy: 0.7657 - val_loss: 0.2733 - val_accuracy: 0.9714\n",
      "Epoch 12/18\n",
      "152/152 [==============================] - 23s 150ms/step - loss: 0.5747 - accuracy: 0.7866 - val_loss: 0.2245 - val_accuracy: 0.9571\n",
      "Epoch 13/18\n",
      "152/152 [==============================] - 25s 162ms/step - loss: 0.5489 - accuracy: 0.7932 - val_loss: 0.1886 - val_accuracy: 0.9458\n",
      "Epoch 14/18\n",
      "152/152 [==============================] - 24s 156ms/step - loss: 0.5406 - accuracy: 0.7966 - val_loss: 0.1538 - val_accuracy: 0.9812\n",
      "Epoch 15/18\n",
      "152/152 [==============================] - 23s 152ms/step - loss: 0.5399 - accuracy: 0.7983 - val_loss: 0.2932 - val_accuracy: 0.8758\n",
      "Epoch 16/18\n",
      "152/152 [==============================] - 23s 152ms/step - loss: 0.5094 - accuracy: 0.8068 - val_loss: 0.2617 - val_accuracy: 0.9111\n",
      "Epoch 17/18\n",
      "152/152 [==============================] - 23s 151ms/step - loss: 0.4843 - accuracy: 0.8158 - val_loss: 0.3276 - val_accuracy: 0.8938\n",
      "Epoch 18/18\n",
      "152/152 [==============================] - 23s 148ms/step - loss: 0.6077 - accuracy: 0.7736 - val_loss: 0.3869 - val_accuracy: 0.8276\n"
     ]
    },
    {
     "data": {
      "text/plain": [
       "<tensorflow.python.keras.callbacks.History at 0x1b16b507d90>"
      ]
     },
     "execution_count": 144,
     "metadata": {},
     "output_type": "execute_result"
    }
   ],
   "source": [
    "# training the model\n",
    "model.fit(X_train, y_train, epochs=18, validation_data=(X_test, y_test), callbacks=[mcp_save], batch_size=35)"
   ]
  },
  {
   "cell_type": "code",
   "execution_count": 166,
   "id": "1adf4a19",
   "metadata": {},
   "outputs": [
    {
     "name": "stdout",
     "output_type": "stream",
     "text": [
      "Epoch 1/30\n",
      "177/177 [==============================] - 26s 149ms/step - loss: 0.6177 - accuracy: 0.7763 - val_loss: 1.2102 - val_accuracy: 0.7229\n",
      "Epoch 2/30\n",
      "177/177 [==============================] - 27s 153ms/step - loss: 0.7739 - accuracy: 0.7175 - val_loss: 0.8871 - val_accuracy: 0.7425\n",
      "Epoch 3/30\n",
      "177/177 [==============================] - 27s 151ms/step - loss: 0.7120 - accuracy: 0.7473 - val_loss: 0.9330 - val_accuracy: 0.7538\n",
      "Epoch 4/30\n",
      "177/177 [==============================] - 30s 171ms/step - loss: 0.7234 - accuracy: 0.7424 - val_loss: 0.8892 - val_accuracy: 0.7575\n",
      "Epoch 5/30\n",
      "177/177 [==============================] - 28s 156ms/step - loss: 0.6818 - accuracy: 0.7561 - val_loss: 1.4030 - val_accuracy: 0.6092\n",
      "Epoch 6/30\n",
      "177/177 [==============================] - 26s 147ms/step - loss: 0.6502 - accuracy: 0.7691 - val_loss: 1.2240 - val_accuracy: 0.6491\n",
      "Epoch 7/30\n",
      "177/177 [==============================] - 26s 148ms/step - loss: 0.8803 - accuracy: 0.6840 - val_loss: 1.4573 - val_accuracy: 0.5143\n",
      "Epoch 8/30\n",
      "177/177 [==============================] - 28s 159ms/step - loss: 0.7632 - accuracy: 0.7190 - val_loss: 0.9956 - val_accuracy: 0.7131\n",
      "Epoch 9/30\n",
      "177/177 [==============================] - 26s 149ms/step - loss: 0.7410 - accuracy: 0.7354 - val_loss: 1.3234 - val_accuracy: 0.6197\n",
      "Epoch 10/30\n",
      "177/177 [==============================] - 27s 155ms/step - loss: 0.8475 - accuracy: 0.6998 - val_loss: 1.8414 - val_accuracy: 0.5331\n",
      "Epoch 11/30\n",
      "177/177 [==============================] - 27s 152ms/step - loss: 0.9277 - accuracy: 0.6684 - val_loss: 1.9489 - val_accuracy: 0.4390\n",
      "Epoch 12/30\n",
      "177/177 [==============================] - 26s 149ms/step - loss: 0.8399 - accuracy: 0.6923 - val_loss: 1.2442 - val_accuracy: 0.6137\n",
      "Epoch 13/30\n",
      "177/177 [==============================] - 28s 156ms/step - loss: 0.7677 - accuracy: 0.7252 - val_loss: 1.7325 - val_accuracy: 0.6476\n",
      "Epoch 14/30\n",
      "177/177 [==============================] - 27s 150ms/step - loss: 0.7925 - accuracy: 0.7117 - val_loss: 1.7162 - val_accuracy: 0.5301\n",
      "Epoch 15/30\n",
      "177/177 [==============================] - 28s 159ms/step - loss: 0.7788 - accuracy: 0.7258 - val_loss: 1.4687 - val_accuracy: 0.6160\n",
      "Epoch 16/30\n",
      "177/177 [==============================] - 27s 152ms/step - loss: 0.8129 - accuracy: 0.7072 - val_loss: 1.6013 - val_accuracy: 0.6717\n",
      "Epoch 17/30\n",
      "177/177 [==============================] - 27s 150ms/step - loss: 0.9726 - accuracy: 0.6537 - val_loss: 1.3761 - val_accuracy: 0.7078\n",
      "Epoch 18/30\n",
      "177/177 [==============================] - 26s 148ms/step - loss: 0.9453 - accuracy: 0.6595 - val_loss: 1.5643 - val_accuracy: 0.6581\n",
      "Epoch 19/30\n",
      "177/177 [==============================] - 27s 152ms/step - loss: 0.8851 - accuracy: 0.6782 - val_loss: 1.6737 - val_accuracy: 0.6310\n",
      "Epoch 20/30\n",
      "177/177 [==============================] - 27s 154ms/step - loss: 0.7478 - accuracy: 0.7266 - val_loss: 1.7482 - val_accuracy: 0.6258\n",
      "Epoch 21/30\n",
      "177/177 [==============================] - 26s 149ms/step - loss: 0.7881 - accuracy: 0.7134 - val_loss: 1.3479 - val_accuracy: 0.6393\n",
      "Epoch 22/30\n",
      "177/177 [==============================] - 25s 142ms/step - loss: 0.7133 - accuracy: 0.7426 - val_loss: 1.7823 - val_accuracy: 0.5422\n",
      "Epoch 23/30\n",
      "177/177 [==============================] - 26s 148ms/step - loss: 0.7484 - accuracy: 0.7363 - val_loss: 2.2414 - val_accuracy: 0.3742\n",
      "Epoch 24/30\n",
      "177/177 [==============================] - 27s 150ms/step - loss: 1.1976 - accuracy: 0.5601 - val_loss: 2.7380 - val_accuracy: 0.3780\n",
      "Epoch 25/30\n",
      "177/177 [==============================] - 27s 153ms/step - loss: 1.1244 - accuracy: 0.5836 - val_loss: 3.1790 - val_accuracy: 0.3908\n",
      "Epoch 26/30\n",
      "177/177 [==============================] - 27s 150ms/step - loss: 1.4513 - accuracy: 0.4640 - val_loss: 3.6169 - val_accuracy: 0.2703\n",
      "Epoch 27/30\n",
      "177/177 [==============================] - 26s 148ms/step - loss: 1.4157 - accuracy: 0.4791 - val_loss: 3.2177 - val_accuracy: 0.4096\n",
      "Epoch 28/30\n",
      "177/177 [==============================] - 26s 147ms/step - loss: 1.3583 - accuracy: 0.4960 - val_loss: 3.1930 - val_accuracy: 0.4142\n",
      "Epoch 29/30\n",
      "177/177 [==============================] - 29s 164ms/step - loss: 1.4366 - accuracy: 0.4863 - val_loss: 2.4792 - val_accuracy: 0.4398\n",
      "Epoch 30/30\n",
      "177/177 [==============================] - 27s 155ms/step - loss: 1.4654 - accuracy: 0.4710 - val_loss: 1.9322 - val_accuracy: 0.4880\n"
     ]
    }
   ],
   "source": [
    "history = model.fit(X_train, y_train, epochs=30, validation_data=(X_test, y_test), callbacks=[mcp_save], batch_size=30)"
   ]
  },
  {
   "cell_type": "code",
   "execution_count": 167,
   "id": "c240a934",
   "metadata": {},
   "outputs": [
    {
     "data": {
      "text/plain": [
       "[0.6177284121513367,\n",
       " 0.773942768573761,\n",
       " 0.7120285630226135,\n",
       " 0.7233521938323975,\n",
       " 0.6818053722381592,\n",
       " 0.6502455472946167,\n",
       " 0.8802919983863831,\n",
       " 0.7631558775901794,\n",
       " 0.7409849762916565,\n",
       " 0.8474732637405396,\n",
       " 0.9277089238166809,\n",
       " 0.839927077293396,\n",
       " 0.7676876187324524,\n",
       " 0.7924802899360657,\n",
       " 0.7788497805595398,\n",
       " 0.8129113912582397,\n",
       " 0.9725600481033325,\n",
       " 0.9453372359275818,\n",
       " 0.8851027488708496,\n",
       " 0.7478353977203369,\n",
       " 0.7880881428718567,\n",
       " 0.7133437991142273,\n",
       " 0.7483775019645691,\n",
       " 1.1976407766342163,\n",
       " 1.1243631839752197,\n",
       " 1.4512863159179688,\n",
       " 1.415728211402893,\n",
       " 1.358274221420288,\n",
       " 1.43658447265625,\n",
       " 1.4653966426849365]"
      ]
     },
     "execution_count": 167,
     "metadata": {},
     "output_type": "execute_result"
    }
   ],
   "source": [
    "history.history['loss']"
   ]
  },
  {
   "cell_type": "code",
   "execution_count": 169,
   "id": "f7f0f688",
   "metadata": {
    "scrolled": true
   },
   "outputs": [
    {
     "data": {
      "image/png": "[encoded data removed]",
      "text/plain": [
       "<Figure size 432x288 with 1 Axes>"
      ]
     },
     "metadata": {
      "needs_background": "light"
     },
     "output_type": "display_data"
    }
   ],
   "source": [
    "\n",
    "loss_train = history.history['loss']\n",
    "loss_val = history.history['val_loss']\n",
    "epochs = range(1,31)\n",
    "plt.plot(epochs, loss_train, 'g', label='Training loss')\n",
    "plt.plot(epochs, loss_val, 'b', label='validation loss')\n",
    "plt.title('Training and Validation loss')\n",
    "plt.xlabel('Epochs')\n",
    "plt.ylabel('Loss')\n",
    "plt.legend()\n",
    "plt.show()\n",
    "\n"
   ]
  },
  {
   "cell_type": "code",
   "execution_count": 170,
   "id": "a0c0a8d4",
   "metadata": {},
   "outputs": [
    {
     "data": {
      "image/png": "[encoded data removed]",
      "text/plain": [
       "<Figure size 432x288 with 1 Axes>"
      ]
     },
     "metadata": {
      "needs_background": "light"
     },
     "output_type": "display_data"
    }
   ],
   "source": [
    "loss_train = history.history['accuracy']\n",
    "loss_val = history.history['val_accuracy']\n",
    "epochs = range(1,31)\n",
    "plt.plot(epochs, loss_train, 'g', label='Training accuracy')\n",
    "plt.plot(epochs, loss_val, 'b', label='validation accuracy')\n",
    "plt.title('Training and Validation accuracy')\n",
    "plt.xlabel('Epochs')\n",
    "plt.ylabel('Accuracy')\n",
    "plt.legend()\n",
    "plt.show()"
   ]
  },
  {
   "cell_type": "markdown",
   "id": "dc33a798",
   "metadata": {},
   "source": [
    "# Evaluating model"
   ]
  },
  {
   "cell_type": "code",
   "execution_count": 172,
   "id": "44151c89",
   "metadata": {},
   "outputs": [],
   "source": [
    "base_model = VGG16(weights='imagenet', include_top=False)"
   ]
  },
  {
   "cell_type": "code",
   "execution_count": 173,
   "id": "30deab3c",
   "metadata": {},
   "outputs": [],
   "source": [
    "#defining the model architecture\n",
    "model = Sequential()\n",
    "model.add(Dense(1024, activation='relu', input_shape=(25088,)))\n",
    "model.add(Dropout(0.5))\n",
    "model.add(Dense(512, activation='relu'))\n",
    "model.add(Dropout(0.5))\n",
    "model.add(Dense(256, activation='relu'))\n",
    "model.add(Dropout(0.5))\n",
    "model.add(Dense(128, activation='relu'))\n",
    "model.add(Dropout(0.5))\n",
    "model.add(Dense(10, activation='softmax'))\n",
    "\n",
    "\n",
    "# loading the trained weights\n",
    "model.load_weights('weight.hdf5')\n",
    "\n",
    "# compiling the model\n",
    "model.compile(loss='categorical_crossentropy',optimizer=opt,metrics=['accuracy'])"
   ]
  },
  {
   "cell_type": "code",
   "execution_count": 26,
   "id": "a5f487d7",
   "metadata": {
    "scrolled": true
   },
   "outputs": [
    {
     "data": {
      "text/html": [
       "<div>\n",
       "<style scoped>\n",
       "    .dataframe tbody tr th:only-of-type {\n",
       "        vertical-align: middle;\n",
       "    }\n",
       "\n",
       "    .dataframe tbody tr th {\n",
       "        vertical-align: top;\n",
       "    }\n",
       "\n",
       "    .dataframe thead th {\n",
       "        text-align: right;\n",
       "    }\n",
       "</style>\n",
       "<table border=\"1\" class=\"dataframe\">\n",
       "  <thead>\n",
       "    <tr style=\"text-align: right;\">\n",
       "      <th></th>\n",
       "      <th>video_name</th>\n",
       "      <th>tag</th>\n",
       "    </tr>\n",
       "  </thead>\n",
       "  <tbody>\n",
       "    <tr>\n",
       "      <th>0</th>\n",
       "      <td>gBR_sFM_c01_d04_mBR3_ch04.mp4</td>\n",
       "      <td>gBR</td>\n",
       "    </tr>\n",
       "    <tr>\n",
       "      <th>1</th>\n",
       "      <td>gBR_sFM_c01_d05_mBR3_ch10.mp4</td>\n",
       "      <td>gBR</td>\n",
       "    </tr>\n",
       "    <tr>\n",
       "      <th>2</th>\n",
       "      <td>gBR_sFM_c01_d06_mBR3_ch17.mp4</td>\n",
       "      <td>gBR</td>\n",
       "    </tr>\n",
       "    <tr>\n",
       "      <th>3</th>\n",
       "      <td>gHO_sFM_c01_d19_mHO1_ch02.mp4</td>\n",
       "      <td>gHO</td>\n",
       "    </tr>\n",
       "    <tr>\n",
       "      <th>4</th>\n",
       "      <td>gHO_sFM_c01_d19_mHO3_ch04.mp4</td>\n",
       "      <td>gHO</td>\n",
       "    </tr>\n",
       "    <tr>\n",
       "      <th>5</th>\n",
       "      <td>gHO_sFM_c01_d20_mHO1_ch09.mp4</td>\n",
       "      <td>gHO</td>\n",
       "    </tr>\n",
       "    <tr>\n",
       "      <th>6</th>\n",
       "      <td>gHO_sFM_c01_d21_mHO3_ch21.mp4</td>\n",
       "      <td>gHO</td>\n",
       "    </tr>\n",
       "    <tr>\n",
       "      <th>7</th>\n",
       "      <td>gJB_sFM_c01_d07_mJB3_ch04.mp4</td>\n",
       "      <td>gJB</td>\n",
       "    </tr>\n",
       "    <tr>\n",
       "      <th>8</th>\n",
       "      <td>gJB_sFM_c01_d08_mJB1_ch09.mp4</td>\n",
       "      <td>gJB</td>\n",
       "    </tr>\n",
       "    <tr>\n",
       "      <th>9</th>\n",
       "      <td>gJB_sFM_c01_d08_mJB5_ch14.mp4</td>\n",
       "      <td>gJB</td>\n",
       "    </tr>\n",
       "    <tr>\n",
       "      <th>10</th>\n",
       "      <td>gJS_sFM_c01_d01_mJS1_ch02.mp4</td>\n",
       "      <td>gJS</td>\n",
       "    </tr>\n",
       "    <tr>\n",
       "      <th>11</th>\n",
       "      <td>gJS_sFM_c01_d02_mJS0_ch08.mp4</td>\n",
       "      <td>gJS</td>\n",
       "    </tr>\n",
       "    <tr>\n",
       "      <th>12</th>\n",
       "      <td>gKR_sFM_c01_d28_mKR3_ch04.mp4</td>\n",
       "      <td>gKR</td>\n",
       "    </tr>\n",
       "    <tr>\n",
       "      <th>13</th>\n",
       "      <td>gKR_sFM_c01_d29_mKR0_ch08.mp4</td>\n",
       "      <td>gKR</td>\n",
       "    </tr>\n",
       "    <tr>\n",
       "      <th>14</th>\n",
       "      <td>gLH_sFM_c01_d16_mLH0_ch01.mp4</td>\n",
       "      <td>gLH</td>\n",
       "    </tr>\n",
       "    <tr>\n",
       "      <th>15</th>\n",
       "      <td>gLH_sFM_c01_d16_mLH4_ch05.mp4</td>\n",
       "      <td>gLH</td>\n",
       "    </tr>\n",
       "    <tr>\n",
       "      <th>16</th>\n",
       "      <td>gLH_sFM_c01_d17_mLH2_ch10.mp4</td>\n",
       "      <td>gLH</td>\n",
       "    </tr>\n",
       "    <tr>\n",
       "      <th>17</th>\n",
       "      <td>gLH_sFM_c01_d18_mLH4_ch19.mp4</td>\n",
       "      <td>gLH</td>\n",
       "    </tr>\n",
       "    <tr>\n",
       "      <th>18</th>\n",
       "      <td>gLO_sFM_c01_d13_mLO4_ch07.mp4</td>\n",
       "      <td>gLO</td>\n",
       "    </tr>\n",
       "    <tr>\n",
       "      <th>19</th>\n",
       "      <td>gLO_sFM_c01_d14_mLO5_ch14.mp4</td>\n",
       "      <td>gLO</td>\n",
       "    </tr>\n",
       "    <tr>\n",
       "      <th>20</th>\n",
       "      <td>gLO_sFM_c01_d15_mLO4_ch19.mp4</td>\n",
       "      <td>gLO</td>\n",
       "    </tr>\n",
       "    <tr>\n",
       "      <th>21</th>\n",
       "      <td>gMH_sFM_c01_d22_mMH1_ch07.mp4</td>\n",
       "      <td>gMH</td>\n",
       "    </tr>\n",
       "    <tr>\n",
       "      <th>22</th>\n",
       "      <td>gMH_sFM_c01_d23_mMH3_ch11.mp4</td>\n",
       "      <td>gMH</td>\n",
       "    </tr>\n",
       "    <tr>\n",
       "      <th>23</th>\n",
       "      <td>gMH_sFM_c01_d24_mMH2_ch21.mp4</td>\n",
       "      <td>gMH</td>\n",
       "    </tr>\n",
       "    <tr>\n",
       "      <th>24</th>\n",
       "      <td>gPO_sFM_c01_d10_mPO1_ch02.mp4</td>\n",
       "      <td>gPO</td>\n",
       "    </tr>\n",
       "    <tr>\n",
       "      <th>25</th>\n",
       "      <td>gPO_sFM_c01_d11_mPO0_ch08.mp4</td>\n",
       "      <td>gPO</td>\n",
       "    </tr>\n",
       "    <tr>\n",
       "      <th>26</th>\n",
       "      <td>gPO_sFM_c01_d12_mPO2_ch17.mp4</td>\n",
       "      <td>gPO</td>\n",
       "    </tr>\n",
       "    <tr>\n",
       "      <th>27</th>\n",
       "      <td>gWA_sFM_c01_d25_mWA4_ch05.mp4</td>\n",
       "      <td>gWA</td>\n",
       "    </tr>\n",
       "    <tr>\n",
       "      <th>28</th>\n",
       "      <td>gWA_sFM_c01_d26_mWA2_ch10.mp4</td>\n",
       "      <td>gWA</td>\n",
       "    </tr>\n",
       "  </tbody>\n",
       "</table>\n",
       "</div>"
      ],
      "text/plain": [
       "                       video_name  tag\n",
       "0   gBR_sFM_c01_d04_mBR3_ch04.mp4  gBR\n",
       "1   gBR_sFM_c01_d05_mBR3_ch10.mp4  gBR\n",
       "2   gBR_sFM_c01_d06_mBR3_ch17.mp4  gBR\n",
       "3   gHO_sFM_c01_d19_mHO1_ch02.mp4  gHO\n",
       "4   gHO_sFM_c01_d19_mHO3_ch04.mp4  gHO\n",
       "5   gHO_sFM_c01_d20_mHO1_ch09.mp4  gHO\n",
       "6   gHO_sFM_c01_d21_mHO3_ch21.mp4  gHO\n",
       "7   gJB_sFM_c01_d07_mJB3_ch04.mp4  gJB\n",
       "8   gJB_sFM_c01_d08_mJB1_ch09.mp4  gJB\n",
       "9   gJB_sFM_c01_d08_mJB5_ch14.mp4  gJB\n",
       "10  gJS_sFM_c01_d01_mJS1_ch02.mp4  gJS\n",
       "11  gJS_sFM_c01_d02_mJS0_ch08.mp4  gJS\n",
       "12  gKR_sFM_c01_d28_mKR3_ch04.mp4  gKR\n",
       "13  gKR_sFM_c01_d29_mKR0_ch08.mp4  gKR\n",
       "14  gLH_sFM_c01_d16_mLH0_ch01.mp4  gLH\n",
       "15  gLH_sFM_c01_d16_mLH4_ch05.mp4  gLH\n",
       "16  gLH_sFM_c01_d17_mLH2_ch10.mp4  gLH\n",
       "17  gLH_sFM_c01_d18_mLH4_ch19.mp4  gLH\n",
       "18  gLO_sFM_c01_d13_mLO4_ch07.mp4  gLO\n",
       "19  gLO_sFM_c01_d14_mLO5_ch14.mp4  gLO\n",
       "20  gLO_sFM_c01_d15_mLO4_ch19.mp4  gLO\n",
       "21  gMH_sFM_c01_d22_mMH1_ch07.mp4  gMH\n",
       "22  gMH_sFM_c01_d23_mMH3_ch11.mp4  gMH\n",
       "23  gMH_sFM_c01_d24_mMH2_ch21.mp4  gMH\n",
       "24  gPO_sFM_c01_d10_mPO1_ch02.mp4  gPO\n",
       "25  gPO_sFM_c01_d11_mPO0_ch08.mp4  gPO\n",
       "26  gPO_sFM_c01_d12_mPO2_ch17.mp4  gPO\n",
       "27  gWA_sFM_c01_d25_mWA4_ch05.mp4  gWA\n",
       "28  gWA_sFM_c01_d26_mWA2_ch10.mp4  gWA"
      ]
     },
     "execution_count": 26,
     "metadata": {},
     "output_type": "execute_result"
    }
   ],
   "source": [
    "test"
   ]
  },
  {
   "cell_type": "code",
   "execution_count": 27,
   "id": "c095dca4",
   "metadata": {},
   "outputs": [
    {
     "data": {
      "text/html": [
       "<div>\n",
       "<style scoped>\n",
       "    .dataframe tbody tr th:only-of-type {\n",
       "        vertical-align: middle;\n",
       "    }\n",
       "\n",
       "    .dataframe tbody tr th {\n",
       "        vertical-align: top;\n",
       "    }\n",
       "\n",
       "    .dataframe thead th {\n",
       "        text-align: right;\n",
       "    }\n",
       "</style>\n",
       "<table border=\"1\" class=\"dataframe\">\n",
       "  <thead>\n",
       "    <tr style=\"text-align: right;\">\n",
       "      <th></th>\n",
       "      <th>video_name</th>\n",
       "    </tr>\n",
       "  </thead>\n",
       "  <tbody>\n",
       "    <tr>\n",
       "      <th>0</th>\n",
       "      <td>gBR_sFM_c01_d04_mBR3_ch04.mp4</td>\n",
       "    </tr>\n",
       "    <tr>\n",
       "      <th>1</th>\n",
       "      <td>gBR_sFM_c01_d05_mBR3_ch10.mp4</td>\n",
       "    </tr>\n",
       "    <tr>\n",
       "      <th>2</th>\n",
       "      <td>gBR_sFM_c01_d06_mBR3_ch17.mp4</td>\n",
       "    </tr>\n",
       "    <tr>\n",
       "      <th>3</th>\n",
       "      <td>gHO_sFM_c01_d19_mHO1_ch02.mp4</td>\n",
       "    </tr>\n",
       "    <tr>\n",
       "      <th>4</th>\n",
       "      <td>gHO_sFM_c01_d19_mHO3_ch04.mp4</td>\n",
       "    </tr>\n",
       "  </tbody>\n",
       "</table>\n",
       "</div>"
      ],
      "text/plain": [
       "                      video_name\n",
       "0  gBR_sFM_c01_d04_mBR3_ch04.mp4\n",
       "1  gBR_sFM_c01_d05_mBR3_ch10.mp4\n",
       "2  gBR_sFM_c01_d06_mBR3_ch17.mp4\n",
       "3  gHO_sFM_c01_d19_mHO1_ch02.mp4\n",
       "4  gHO_sFM_c01_d19_mHO3_ch04.mp4"
      ]
     },
     "execution_count": 27,
     "metadata": {},
     "output_type": "execute_result"
    }
   ],
   "source": [
    "# # getting the test list\n",
    "# f = open(\"test-data-names.txt\", \"r\")\n",
    "# temp = f.read()\n",
    "# videos = temp.split('\\n')\n",
    "# videos\n",
    "\n",
    "# # creating the dataframe\n",
    "test1 = pd.DataFrame()\n",
    "test1['video_name'] = videos\n",
    "test1 = test1[:-1]\n",
    "test_videos = test1['video_name']\n",
    "test1.head()\n",
    "\n",
    "#temp_test = pd.DataFrame()\n",
    "#temp_test['video_name'] = test['video_name']\n",
    "#temp_test.head()"
   ]
  },
  {
   "cell_type": "code",
   "execution_count": 28,
   "id": "9a474188",
   "metadata": {},
   "outputs": [],
   "source": [
    "# creating the tags\n",
    "train = pd.read_excel('new-frames.xlsx')\n",
    "y = train['class']\n",
    "y = pd.get_dummies(y)"
   ]
  },
  {
   "cell_type": "code",
   "execution_count": 149,
   "id": "7d1cfead",
   "metadata": {},
   "outputs": [
    {
     "name": "stderr",
     "output_type": "stream",
     "text": [
      "100%|██████████████████████████████████████████████████████████████████████████████████| 29/29 [08:55<00:00, 18.47s/it]\n"
     ]
    }
   ],
   "source": [
    "############ GOOD CODE ###################\n",
    "\n",
    "# creating two lists to store predicted and actual tags\n",
    "predict = []\n",
    "actual = []\n",
    "path = 'C:/Users/Dhanshree/Desktop/Research Project/test-data/'\n",
    "# for loop to extract frames from each test video\n",
    "for i in tqdm(range(test_videos.shape[0])):\n",
    "    videoFile = test_videos[i]\n",
    "    cap = cv2.VideoCapture('test-data/'+videoFile)\n",
    "    count = 0\n",
    "    counter = 0\n",
    "    j = 0\n",
    "    # removing all other files from the temp folder\n",
    "    files = glob('temp/*')\n",
    "    for f in files:\n",
    "        os.remove(f)\n",
    "    while cap.isOpened():\n",
    "        ret, frame = cap.read()\n",
    "        if ret:\n",
    "            #filename = 'frames/'+ str(j) + '_frame{:d}.jpg'.format(count)\n",
    "            filename ='temp/' + \"_frame%d.jpg\" % count;count+=1\n",
    "            cv2.imwrite(filename, frame)\n",
    "            counter += 60 # i.e. at 30 fps, this advances one second\n",
    "            j+= 1\n",
    "            cap.set(cv2.CAP_PROP_POS_FRAMES, counter)\n",
    "        else:\n",
    "            cap.release()\n",
    "            break\n",
    "# reading all the frames from temp folder\n",
    "    images = glob(\"temp/*.jpg\")\n",
    "    \n",
    "    prediction_images = []\n",
    "    for i in range(len(images)):\n",
    "        img = image.load_img(images[i], target_size=(224,224,3))\n",
    "        img = image.img_to_array(img)\n",
    "        img = img/255\n",
    "        prediction_images.append(img)\n",
    "        \n",
    "    # converting all the frames for a test video into numpy array\n",
    "    prediction_images = np.array(prediction_images)\n",
    "    # extracting features using pre-trained model\n",
    "    prediction_images = base_model.predict(prediction_images)\n",
    "    # converting features in one dimensional array\n",
    "    prediction_images = prediction_images.reshape(prediction_images.shape[0], 7*7*512)\n",
    "    # predicting tags for each array\n",
    "    prediction = model.predict_classes(prediction_images)\n",
    "    # appending the mode of predictions in predict list to assign the tag to the video\n",
    "    predict.append(y.columns.values[s.mode(prediction)[0][0]])\n",
    "    # appending the actual tag of the video\n",
    "    actual.append(videoFile.split('_')[0])\n"
   ]
  },
  {
   "cell_type": "code",
   "execution_count": 150,
   "id": "67f37cb1",
   "metadata": {},
   "outputs": [
    {
     "data": {
      "text/plain": [
       "75.86206896551724"
      ]
     },
     "execution_count": 150,
     "metadata": {},
     "output_type": "execute_result"
    }
   ],
   "source": [
    "# checking the accuracy of the predicted tags\n",
    "from sklearn.metrics import accuracy_score\n",
    "print('The Accuracy for VGG-16 model is :',accuracy_score(predict, actual)*100)"
   ]
  },
  {
   "cell_type": "code",
   "execution_count": 176,
   "id": "f092a830",
   "metadata": {},
   "outputs": [
    {
     "data": {
      "text/plain": [
       "array([1.        , 0.        , 0.5       , 0.        , 1.        ,\n",
       "       0.88888889, 1.        , 1.        , 0.8       , 1.        ])"
      ]
     },
     "execution_count": 176,
     "metadata": {},
     "output_type": "execute_result"
    }
   ],
   "source": [
    "from sklearn.metrics import f1_score\n",
    "f1_score(actual, predict, average=None)"
   ]
  },
  {
   "cell_type": "code",
   "execution_count": 152,
   "id": "eda33df2",
   "metadata": {},
   "outputs": [
    {
     "name": "stderr",
     "output_type": "stream",
     "text": [
      "D:\\Softwares\\anaconda\\lib\\site-packages\\sklearn\\metrics\\_classification.py:1245: UndefinedMetricWarning: Precision is ill-defined and being set to 0.0 in labels with no predicted samples. Use `zero_division` parameter to control this behavior.\n",
      "  _warn_prf(average, modifier, msg_start, len(result))\n"
     ]
    },
    {
     "data": {
      "text/plain": [
       "array([1.        , 0.        , 0.33333333, 0.        , 1.        ,\n",
       "       0.8       , 1.        , 1.        , 1.        , 1.        ])"
      ]
     },
     "execution_count": 152,
     "metadata": {},
     "output_type": "execute_result"
    }
   ],
   "source": [
    "from sklearn.metrics import precision_score\n",
    "precision_score(actual, predict, average=None)"
   ]
  },
  {
   "cell_type": "code",
   "execution_count": 153,
   "id": "797737be",
   "metadata": {},
   "outputs": [
    {
     "name": "stdout",
     "output_type": "stream",
     "text": [
      "              precision    recall  f1-score   support\n",
      "\n",
      "         gBR       1.00      1.00      1.00         3\n",
      "         gHO       0.00      0.00      0.00         4\n",
      "         gJB       0.33      1.00      0.50         3\n",
      "         gJS       0.00      0.00      0.00         2\n",
      "         gKR       1.00      1.00      1.00         2\n",
      "         gLH       0.80      1.00      0.89         4\n",
      "         gLO       1.00      1.00      1.00         3\n",
      "         gMH       1.00      1.00      1.00         3\n",
      "         gPO       1.00      0.67      0.80         3\n",
      "         gWA       1.00      1.00      1.00         2\n",
      "\n",
      "    accuracy                           0.76        29\n",
      "   macro avg       0.71      0.77      0.72        29\n",
      "weighted avg       0.70      0.76      0.71        29\n",
      "\n"
     ]
    },
    {
     "name": "stderr",
     "output_type": "stream",
     "text": [
      "D:\\Softwares\\anaconda\\lib\\site-packages\\sklearn\\metrics\\_classification.py:1245: UndefinedMetricWarning: Precision and F-score are ill-defined and being set to 0.0 in labels with no predicted samples. Use `zero_division` parameter to control this behavior.\n",
      "  _warn_prf(average, modifier, msg_start, len(result))\n",
      "D:\\Softwares\\anaconda\\lib\\site-packages\\sklearn\\metrics\\_classification.py:1245: UndefinedMetricWarning: Precision and F-score are ill-defined and being set to 0.0 in labels with no predicted samples. Use `zero_division` parameter to control this behavior.\n",
      "  _warn_prf(average, modifier, msg_start, len(result))\n",
      "D:\\Softwares\\anaconda\\lib\\site-packages\\sklearn\\metrics\\_classification.py:1245: UndefinedMetricWarning: Precision and F-score are ill-defined and being set to 0.0 in labels with no predicted samples. Use `zero_division` parameter to control this behavior.\n",
      "  _warn_prf(average, modifier, msg_start, len(result))\n"
     ]
    }
   ],
   "source": [
    "# Libraries and modules for model evaluation\n",
    "from sklearn.metrics import confusion_matrix, classification_report\n",
    "#generating confusion matrix and classification report.\n",
    "\n",
    "\n",
    "\n",
    "cf_matrix = confusion_matrix(actual, predict)\n",
    "\n",
    "\n",
    "\n",
    "print(classification_report(actual, predict))"
   ]
  },
  {
   "cell_type": "code",
   "execution_count": 154,
   "id": "5e65bcea",
   "metadata": {},
   "outputs": [
    {
     "data": {
      "text/plain": [
       "<AxesSubplot:>"
      ]
     },
     "execution_count": 154,
     "metadata": {},
     "output_type": "execute_result"
    },
    {
     "data": {
      "image/png": "[encoded data removed]",
      "text/plain": [
       "<Figure size 432x288 with 2 Axes>"
      ]
     },
     "metadata": {
      "needs_background": "light"
     },
     "output_type": "display_data"
    }
   ],
   "source": [
    "import seaborn as sns\n",
    "sns.heatmap(confusion_matrix(actual, predict), annot = True, cmap='Blues', fmt='g')"
   ]
  },
  {
   "cell_type": "code",
   "execution_count": 155,
   "id": "e4e20ba9",
   "metadata": {
    "scrolled": true
   },
   "outputs": [
    {
     "data": {
      "text/plain": [
       "<function matplotlib.pyplot.show(close=None, block=None)>"
      ]
     },
     "execution_count": 155,
     "metadata": {},
     "output_type": "execute_result"
    },
    {
     "data": {
      "image/png": "[encoded data removed]",
      "text/plain": [
       "<Figure size 432x288 with 1 Axes>"
      ]
     },
     "metadata": {
      "needs_background": "light"
     },
     "output_type": "display_data"
    }
   ],
   "source": [
    "y1= actual\n",
    "y2= predict\n",
    "plt.plot(y1, label = \"Actual\")\n",
    "plt.plot(y2, label = \"Predicted\")\n",
    "plt.show"
   ]
  },
  {
   "cell_type": "markdown",
   "id": "d82e9da5",
   "metadata": {},
   "source": [
    "# VGG-19 Implementation"
   ]
  },
  {
   "cell_type": "code",
   "execution_count": 9,
   "id": "8e142db8",
   "metadata": {},
   "outputs": [],
   "source": [
    "# creating the base model of pre-trained VGG16 model\n",
    "VGG19_model = VGG19(weights='imagenet', include_top=False)"
   ]
  },
  {
   "cell_type": "code",
   "execution_count": 10,
   "id": "33622a00",
   "metadata": {},
   "outputs": [
    {
     "data": {
      "text/plain": [
       "(1328, 7, 7, 512)"
      ]
     },
     "execution_count": 10,
     "metadata": {},
     "output_type": "execute_result"
    }
   ],
   "source": [
    "# extracting features for training frames\n",
    "X_train_VGG19 = VGG19_model.predict(X_train)\n",
    "X_train_VGG19.shape\n",
    "\n",
    "# extracting features for validation frames\n",
    "X_test_VGG19 = VGG19_model.predict(X_test)\n",
    "X_test_VGG19.shape"
   ]
  },
  {
   "cell_type": "code",
   "execution_count": 11,
   "id": "ab875583",
   "metadata": {},
   "outputs": [],
   "source": [
    "X_train_VGG19 = X_train_VGG19.reshape(5310, 7*7*512)\n",
    "X_test_VGG19 = X_test_VGG19.reshape(1328, 7*7*512)\n",
    "\n",
    "# normalizing the pixel values\n",
    "max = X_train_VGG19.max()\n",
    "X_train_VGG19 = X_train_VGG19/max\n",
    "X_test_VGG19 = X_test_VGG19/max"
   ]
  },
  {
   "cell_type": "code",
   "execution_count": 32,
   "id": "2a5b6cf8",
   "metadata": {},
   "outputs": [],
   "source": [
    "#defining the model architecture\n",
    "model_VGG19 = Sequential()\n",
    "model_VGG19.add(Dense(1024, activation='relu', input_shape=(25088,)))\n",
    "model_VGG19.add(Dropout(0.5))\n",
    "model_VGG19.add(Dense(512, activation='relu'))\n",
    "model_VGG19.add(Dropout(0.5))\n",
    "model_VGG19.add(Dense(256, activation='relu'))\n",
    "model_VGG19.add(Dropout(0.5))\n",
    "model_VGG19.add(Dense(128, activation='relu'))\n",
    "model_VGG19.add(Dropout(0.5))\n",
    "model_VGG19.add(Dense(10, activation='softmax'))"
   ]
  },
  {
   "cell_type": "code",
   "execution_count": 14,
   "id": "610ae7cf",
   "metadata": {},
   "outputs": [
    {
     "name": "stdout",
     "output_type": "stream",
     "text": [
      "Model: \"sequential_1\"\n",
      "_________________________________________________________________\n",
      "Layer (type)                 Output Shape              Param #   \n",
      "=================================================================\n",
      "dense_5 (Dense)              (None, 1024)              25691136  \n",
      "_________________________________________________________________\n",
      "dropout_4 (Dropout)          (None, 1024)              0         \n",
      "_________________________________________________________________\n",
      "dense_6 (Dense)              (None, 512)               524800    \n",
      "_________________________________________________________________\n",
      "dropout_5 (Dropout)          (None, 512)               0         \n",
      "_________________________________________________________________\n",
      "dense_7 (Dense)              (None, 256)               131328    \n",
      "_________________________________________________________________\n",
      "dropout_6 (Dropout)          (None, 256)               0         \n",
      "_________________________________________________________________\n",
      "dense_8 (Dense)              (None, 128)               32896     \n",
      "_________________________________________________________________\n",
      "dropout_7 (Dropout)          (None, 128)               0         \n",
      "_________________________________________________________________\n",
      "dense_9 (Dense)              (None, 10)                1290      \n",
      "=================================================================\n",
      "Total params: 26,381,450\n",
      "Trainable params: 26,381,450\n",
      "Non-trainable params: 0\n",
      "_________________________________________________________________\n"
     ]
    }
   ],
   "source": [
    "model_VGG19.summary()"
   ]
  },
  {
   "cell_type": "code",
   "execution_count": 33,
   "id": "9e492395",
   "metadata": {},
   "outputs": [],
   "source": [
    "# defining a function to save the weights of best model\n",
    "\n",
    "from keras.callbacks import ModelCheckpoint\n",
    "mcp_save_VGG19 = ModelCheckpoint('weight_VGG19.hdf5', save_best_only=True, monitor='val_loss', mode='min')"
   ]
  },
  {
   "cell_type": "code",
   "execution_count": 34,
   "id": "ae228ca0",
   "metadata": {},
   "outputs": [],
   "source": [
    "# compiling the model\n",
    "model_VGG19.compile(loss='categorical_crossentropy',optimizer='Adam',metrics=['accuracy'])"
   ]
  },
  {
   "cell_type": "code",
   "execution_count": 36,
   "id": "be8e1fd0",
   "metadata": {},
   "outputs": [
    {
     "name": "stdout",
     "output_type": "stream",
     "text": [
      "Epoch 1/15\n",
      "177/177 [==============================] - 29s 163ms/step - loss: 2.1158 - accuracy: 0.1768 - val_loss: 1.7501 - val_accuracy: 0.2146\n",
      "Epoch 2/15\n",
      "177/177 [==============================] - 28s 158ms/step - loss: 1.5174 - accuracy: 0.3614 - val_loss: 0.9733 - val_accuracy: 0.6770\n",
      "Epoch 3/15\n",
      "177/177 [==============================] - 27s 153ms/step - loss: 1.1953 - accuracy: 0.4780 - val_loss: 0.7167 - val_accuracy: 0.7530\n",
      "Epoch 4/15\n",
      "177/177 [==============================] - 27s 153ms/step - loss: 1.0687 - accuracy: 0.5390 - val_loss: 0.6187 - val_accuracy: 0.8012\n",
      "Epoch 5/15\n",
      "177/177 [==============================] - 26s 147ms/step - loss: 1.0624 - accuracy: 0.5582 - val_loss: 0.6505 - val_accuracy: 0.7824\n",
      "Epoch 6/15\n",
      "177/177 [==============================] - 26s 148ms/step - loss: 0.9347 - accuracy: 0.6049 - val_loss: 0.9777 - val_accuracy: 0.5723\n",
      "Epoch 7/15\n",
      "177/177 [==============================] - 26s 149ms/step - loss: 0.8921 - accuracy: 0.6220 - val_loss: 1.0635 - val_accuracy: 0.6137\n",
      "Epoch 8/15\n",
      "177/177 [==============================] - 26s 149ms/step - loss: 0.8370 - accuracy: 0.6437 - val_loss: 0.7865 - val_accuracy: 0.7184\n",
      "Epoch 9/15\n",
      "177/177 [==============================] - 27s 150ms/step - loss: 0.7555 - accuracy: 0.6785 - val_loss: 1.0003 - val_accuracy: 0.6717\n",
      "Epoch 10/15\n",
      "177/177 [==============================] - 27s 154ms/step - loss: 0.6895 - accuracy: 0.7047 - val_loss: 0.5773 - val_accuracy: 0.7658\n",
      "Epoch 11/15\n",
      "177/177 [==============================] - 26s 147ms/step - loss: 0.7624 - accuracy: 0.6838 - val_loss: 1.6144 - val_accuracy: 0.4270\n",
      "Epoch 12/15\n",
      "177/177 [==============================] - 26s 148ms/step - loss: 0.7189 - accuracy: 0.7122 - val_loss: 2.4004 - val_accuracy: 0.5038\n",
      "Epoch 13/15\n",
      "177/177 [==============================] - 26s 148ms/step - loss: 0.6606 - accuracy: 0.7299 - val_loss: 2.2013 - val_accuracy: 0.4767\n",
      "Epoch 14/15\n",
      "177/177 [==============================] - 26s 148ms/step - loss: 0.7188 - accuracy: 0.7111 - val_loss: 2.6358 - val_accuracy: 0.2575\n",
      "Epoch 15/15\n",
      "177/177 [==============================] - 26s 148ms/step - loss: 0.7532 - accuracy: 0.6983 - val_loss: 2.5056 - val_accuracy: 0.4149\n"
     ]
    }
   ],
   "source": [
    "history_VGG19 = model_VGG19.fit(X_train_VGG19, y_train, epochs=15, validation_data=(X_test_VGG19, y_test), callbacks=[mcp_save_VGG19], batch_size=30)"
   ]
  },
  {
   "cell_type": "code",
   "execution_count": 20,
   "id": "af5e6a26",
   "metadata": {},
   "outputs": [
    {
     "data": {
      "image/png": "[encoded data removed]",
      "text/plain": [
       "<Figure size 432x288 with 1 Axes>"
      ]
     },
     "metadata": {
      "needs_background": "light"
     },
     "output_type": "display_data"
    }
   ],
   "source": [
    "\n",
    "loss_train = history_VGG19.history['loss']\n",
    "loss_val = history_VGG19.history['val_loss']\n",
    "epochs = range(1,31)\n",
    "plt.plot(epochs, loss_train, 'g', label='Training loss')\n",
    "plt.plot(epochs, loss_val, 'b', label='validation loss')\n",
    "plt.title('Training and Validation loss')\n",
    "plt.xlabel('Epochs')\n",
    "plt.ylabel('Loss')\n",
    "plt.legend()\n",
    "plt.show()\n"
   ]
  },
  {
   "cell_type": "code",
   "execution_count": 21,
   "id": "05b31a8d",
   "metadata": {},
   "outputs": [
    {
     "data": {
      "image/png": "[encoded data removed]",
      "text/plain": [
       "<Figure size 432x288 with 1 Axes>"
      ]
     },
     "metadata": {
      "needs_background": "light"
     },
     "output_type": "display_data"
    }
   ],
   "source": [
    "loss_train = history_VGG19.history['accuracy']\n",
    "loss_val = history_VGG19.history['val_accuracy']\n",
    "epochs = range(1,31)\n",
    "plt.plot(epochs, loss_train, 'g', label='Training accuracy')\n",
    "plt.plot(epochs, loss_val, 'b', label='validation accuracy')\n",
    "plt.title('Training and Validation accuracy')\n",
    "plt.xlabel('Epochs')\n",
    "plt.ylabel('Accuracy')\n",
    "plt.legend()\n",
    "plt.show()"
   ]
  },
  {
   "cell_type": "markdown",
   "id": "2fcc73aa",
   "metadata": {},
   "source": [
    "# Evaluating VGG 19"
   ]
  },
  {
   "cell_type": "code",
   "execution_count": 37,
   "id": "118acada",
   "metadata": {},
   "outputs": [],
   "source": [
    "# creating the base model of pre-trained VGG16 model\n",
    "VGG19_model = VGG19(weights='imagenet', include_top=False)"
   ]
  },
  {
   "cell_type": "code",
   "execution_count": 38,
   "id": "b60e137d",
   "metadata": {},
   "outputs": [],
   "source": [
    "#defining the model architecture\n",
    "model_VGG19 = Sequential()\n",
    "model_VGG19.add(Dense(1024, activation='relu', input_shape=(25088,)))\n",
    "model_VGG19.add(Dropout(0.5))\n",
    "model_VGG19.add(Dense(512, activation='relu'))\n",
    "model_VGG19.add(Dropout(0.5))\n",
    "model_VGG19.add(Dense(256, activation='relu'))\n",
    "model_VGG19.add(Dropout(0.5))\n",
    "model_VGG19.add(Dense(128, activation='relu'))\n",
    "model_VGG19.add(Dropout(0.5))\n",
    "model_VGG19.add(Dense(10, activation='softmax'))\n",
    "\n",
    "\n",
    "# loading the trained weights\n",
    "model_VGG19.load_weights('weight_VGG19.hdf5')\n",
    "\n",
    "# compiling the model\n",
    "model_VGG19.compile(loss='categorical_crossentropy',optimizer='Adam',metrics=['accuracy'])"
   ]
  },
  {
   "cell_type": "code",
   "execution_count": 39,
   "id": "32905b64",
   "metadata": {},
   "outputs": [
    {
     "name": "stderr",
     "output_type": "stream",
     "text": [
      "100%|██████████████████████████████████████████████████████████████████████████████████| 29/29 [10:16<00:00, 21.27s/it]\n"
     ]
    }
   ],
   "source": [
    "############ GOOD CODE ###################\n",
    "\n",
    "# creating two lists to store predicted and actual tags\n",
    "predict_VGG19 = []\n",
    "actual_VGG19 = []\n",
    "path = 'C:/Users/Dhanshree/Desktop/Research Project/test-data/'\n",
    "# for loop to extract frames from each test video\n",
    "for i in tqdm(range(test_videos.shape[0])):\n",
    "    videoFile = test_videos[i]\n",
    "    cap = cv2.VideoCapture('test-data/'+videoFile)\n",
    "    count = 0\n",
    "    counter = 0\n",
    "    j = 0\n",
    "    # removing all other files from the temp folder\n",
    "    files = glob('temp/*')\n",
    "    for f in files:\n",
    "        os.remove(f)\n",
    "    while cap.isOpened():\n",
    "        ret, frame = cap.read()\n",
    "        if ret:\n",
    "            #filename = 'frames/'+ str(j) + '_frame{:d}.jpg'.format(count)\n",
    "            filename ='temp/' + \"_frame%d.jpg\" % count;count+=1\n",
    "            cv2.imwrite(filename, frame)\n",
    "            counter += 60 # i.e. at 30 fps, this advances one second\n",
    "            j+= 1\n",
    "            cap.set(cv2.CAP_PROP_POS_FRAMES, counter)\n",
    "        else:\n",
    "            cap.release()\n",
    "            break\n",
    "# reading all the frames from temp folder\n",
    "    images = glob(\"temp/*.jpg\")\n",
    "    \n",
    "    prediction_images = []\n",
    "    for i in range(len(images)):\n",
    "        img = image.load_img(images[i], target_size=(224,224,3))\n",
    "        img = image.img_to_array(img)\n",
    "        img = img/255\n",
    "        prediction_images.append(img)\n",
    "        \n",
    "    # converting all the frames for a test video into numpy array\n",
    "    prediction_images = np.array(prediction_images)\n",
    "    # extracting features using pre-trained model\n",
    "    prediction_images = VGG19_model.predict(prediction_images)\n",
    "    # converting features in one dimensional array\n",
    "    prediction_images = prediction_images.reshape(prediction_images.shape[0], 7*7*512)\n",
    "    # predicting tags for each array\n",
    "    prediction = model_VGG19.predict_classes(prediction_images)\n",
    "    # appending the mode of predictions in predict list to assign the tag to the video\n",
    "    predict_VGG19.append(y.columns.values[s.mode(prediction)[0][0]])\n",
    "    # appending the actual tag of the video\n",
    "    actual_VGG19.append(videoFile.split('_')[0])\n"
   ]
  },
  {
   "cell_type": "code",
   "execution_count": 40,
   "id": "c09e9211",
   "metadata": {},
   "outputs": [
    {
     "name": "stdout",
     "output_type": "stream",
     "text": [
      "The Accuracy for VGG-19 model is : 68.96551724137932\n"
     ]
    }
   ],
   "source": [
    "# checking the accuracy of the predicted tags\n",
    "from sklearn.metrics import accuracy_score\n",
    "print('The Accuracy for VGG-19 model is :',accuracy_score(predict_VGG19, actual_VGG19)*100)"
   ]
  },
  {
   "cell_type": "code",
   "execution_count": 41,
   "id": "5c63e558",
   "metadata": {},
   "outputs": [
    {
     "data": {
      "text/plain": [
       "<function matplotlib.pyplot.show(close=None, block=None)>"
      ]
     },
     "execution_count": 41,
     "metadata": {},
     "output_type": "execute_result"
    },
    {
     "data": {
      "image/png": "[encoded data removed]",
      "text/plain": [
       "<Figure size 432x288 with 1 Axes>"
      ]
     },
     "metadata": {
      "needs_background": "light"
     },
     "output_type": "display_data"
    }
   ],
   "source": [
    "y3= actual_VGG19\n",
    "y4= predict_VGG19\n",
    "plt.plot(y3, label = \"Actual\")\n",
    "plt.plot(y4, label = \"Predicted\")\n",
    "plt.show"
   ]
  },
  {
   "cell_type": "code",
   "execution_count": 44,
   "id": "da95265f",
   "metadata": {},
   "outputs": [
    {
     "data": {
      "text/plain": [
       "<AxesSubplot:>"
      ]
     },
     "execution_count": 44,
     "metadata": {},
     "output_type": "execute_result"
    },
    {
     "data": {
      "image/png": "[encoded data removed]",
      "text/plain": [
       "<Figure size 432x288 with 2 Axes>"
      ]
     },
     "metadata": {
      "needs_background": "light"
     },
     "output_type": "display_data"
    }
   ],
   "source": [
    "import seaborn as sns\n",
    "# Libraries and modules for model evaluation\n",
    "from sklearn.metrics import confusion_matrix, classification_report\n",
    "\n",
    "sns.heatmap(confusion_matrix(actual_VGG19, predict_VGG19), annot = True, cmap='Blues', fmt='g')"
   ]
  },
  {
   "cell_type": "markdown",
   "id": "9acf27d3",
   "metadata": {},
   "source": [
    "# CNN"
   ]
  },
  {
   "cell_type": "code",
   "execution_count": 64,
   "id": "89bec6e2",
   "metadata": {},
   "outputs": [],
   "source": [
    "from tensorflow.keras.layers import Dense, Conv2D, MaxPool2D, Dropout,Flatten\n",
    "from tensorflow.keras.layers import *\n",
    "from tensorflow.keras.models import Sequential\n",
    "from tensorflow.keras.utils import to_categorical\n",
    "from tensorflow.keras.callbacks import EarlyStopping\n",
    "from tensorflow.keras.utils import plot_model"
   ]
  },
  {
   "cell_type": "code",
   "execution_count": 31,
   "id": "589a1ddb",
   "metadata": {},
   "outputs": [
    {
     "name": "stdout",
     "output_type": "stream",
     "text": [
      "Model: \"sequential_7\"\n",
      "_________________________________________________________________\n",
      "Layer (type)                 Output Shape              Param #   \n",
      "=================================================================\n",
      "conv2d_9 (Conv2D)            (None, 222, 222, 224)     6272      \n",
      "_________________________________________________________________\n",
      "conv2d_10 (Conv2D)           (None, 220, 220, 224)     451808    \n",
      "_________________________________________________________________\n",
      "batch_normalization_5 (Batch (None, 220, 220, 224)     896       \n",
      "_________________________________________________________________\n",
      "max_pooling2d_3 (MaxPooling2 (None, 110, 110, 224)     0         \n",
      "_________________________________________________________________\n",
      "global_average_pooling2d_2 ( (None, 224)               0         \n",
      "_________________________________________________________________\n",
      "dense_8 (Dense)              (None, 256)               57600     \n",
      "_________________________________________________________________\n",
      "batch_normalization_6 (Batch (None, 256)               1024      \n",
      "_________________________________________________________________\n",
      "dense_9 (Dense)              (None, 10)                2570      \n",
      "=================================================================\n",
      "Total params: 520,170\n",
      "Trainable params: 519,210\n",
      "Non-trainable params: 960\n",
      "_________________________________________________________________\n",
      "Model Created Successfully!\n"
     ]
    }
   ],
   "source": [
    "\n",
    "# We will use a Sequential model for model construction\n",
    "model_cnn = Sequential()\n",
    "\n",
    "# Defining The Model Architecture\n",
    "model_cnn.add(Conv2D(filters = 224, kernel_size = (3, 3), activation = 'relu', input_shape = (224, 224, 3)))\n",
    "model_cnn.add(Conv2D(filters = 224, kernel_size = (3, 3), activation = 'relu'))\n",
    "model_cnn.add(BatchNormalization())\n",
    "model_cnn.add(MaxPooling2D(pool_size = (2, 2)))\n",
    "model_cnn.add(GlobalAveragePooling2D())\n",
    "model_cnn.add(Dense(256, activation = 'relu'))\n",
    "model_cnn.add(BatchNormalization())\n",
    "model_cnn.add(Dense(10, activation = 'softmax'))\n",
    "\n",
    "# Printing the models summary\n",
    "model_cnn.summary()\n",
    "    \n",
    "print(\"Model Created Successfully!\")"
   ]
  },
  {
   "cell_type": "code",
   "execution_count": 67,
   "id": "931dbd42",
   "metadata": {},
   "outputs": [],
   "source": [
    "model_cnn.compile(optimizer='rmsprop',loss='sparse_categorical_crossentropy',metrics=['accuracy'])"
   ]
  },
  {
   "cell_type": "code",
   "execution_count": 194,
   "id": "96a561b2",
   "metadata": {},
   "outputs": [
    {
     "name": "stdout",
     "output_type": "stream",
     "text": [
      "Epoch 1/18\n",
      "152/152 [==============================] - 24s 157ms/step - loss: 1.7614 - accuracy: 0.2603 - val_loss: 1.3998 - val_accuracy: 0.4059\n",
      "Epoch 2/18\n",
      "152/152 [==============================] - 24s 158ms/step - loss: 1.4142 - accuracy: 0.3889 - val_loss: 0.8660 - val_accuracy: 0.6017\n",
      "Epoch 3/18\n",
      "152/152 [==============================] - 23s 153ms/step - loss: 1.2126 - accuracy: 0.4578 - val_loss: 0.9198 - val_accuracy: 0.6002\n",
      "Epoch 4/18\n",
      "152/152 [==============================] - 24s 159ms/step - loss: 1.1861 - accuracy: 0.4736 - val_loss: 0.7453 - val_accuracy: 0.7831\n",
      "Epoch 5/18\n",
      "152/152 [==============================] - 25s 161ms/step - loss: 1.1117 - accuracy: 0.5098 - val_loss: 0.6842 - val_accuracy: 0.7327\n",
      "Epoch 6/18\n",
      "152/152 [==============================] - 23s 149ms/step - loss: 1.0585 - accuracy: 0.5330 - val_loss: 0.7127 - val_accuracy: 0.6679\n",
      "Epoch 7/18\n",
      "152/152 [==============================] - 24s 156ms/step - loss: 0.9631 - accuracy: 0.5821 - val_loss: 0.6871 - val_accuracy: 0.6401\n",
      "Epoch 8/18\n",
      "152/152 [==============================] - 24s 155ms/step - loss: 1.0233 - accuracy: 0.5667 - val_loss: 1.1115 - val_accuracy: 0.6160\n",
      "Epoch 9/18\n",
      "152/152 [==============================] - 23s 152ms/step - loss: 0.9509 - accuracy: 0.5970 - val_loss: 1.3896 - val_accuracy: 0.5166\n",
      "Epoch 10/18\n",
      "152/152 [==============================] - 25s 161ms/step - loss: 0.9440 - accuracy: 0.6124 - val_loss: 1.0335 - val_accuracy: 0.6461\n",
      "Epoch 11/18\n",
      "152/152 [==============================] - 24s 156ms/step - loss: 1.0008 - accuracy: 0.6090 - val_loss: 1.5196 - val_accuracy: 0.5264\n",
      "Epoch 12/18\n",
      "152/152 [==============================] - 23s 152ms/step - loss: 0.9497 - accuracy: 0.6288 - val_loss: 2.1335 - val_accuracy: 0.4104\n",
      "Epoch 13/18\n",
      "152/152 [==============================] - 23s 152ms/step - loss: 1.0152 - accuracy: 0.5996 - val_loss: 1.6007 - val_accuracy: 0.4044\n",
      "Epoch 14/18\n",
      "152/152 [==============================] - 23s 151ms/step - loss: 1.1140 - accuracy: 0.5507 - val_loss: 1.3422 - val_accuracy: 0.4149\n",
      "Epoch 15/18\n",
      "152/152 [==============================] - 23s 151ms/step - loss: 0.9561 - accuracy: 0.6205 - val_loss: 2.0662 - val_accuracy: 0.4571\n",
      "Epoch 16/18\n",
      "152/152 [==============================] - 23s 149ms/step - loss: 0.9353 - accuracy: 0.6426 - val_loss: 2.2696 - val_accuracy: 0.4247\n",
      "Epoch 17/18\n",
      "152/152 [==============================] - 23s 154ms/step - loss: 0.8696 - accuracy: 0.6687 - val_loss: 1.8073 - val_accuracy: 0.4857\n",
      "Epoch 18/18\n",
      "152/152 [==============================] - 23s 154ms/step - loss: 0.8939 - accuracy: 0.6569 - val_loss: 1.7769 - val_accuracy: 0.3750\n"
     ]
    }
   ],
   "source": [
    "history_cnn = model_cnn.fit(X_train, y_train, epochs=18, validation_data=(X_test, y_test), callbacks=[mcp_save], batch_size=35)"
   ]
  },
  {
   "cell_type": "code",
   "execution_count": 198,
   "id": "f7aa59fa",
   "metadata": {},
   "outputs": [
    {
     "data": {
      "image/png": "[encoded data removed]",
      "text/plain": [
       "<Figure size 432x288 with 1 Axes>"
      ]
     },
     "metadata": {
      "needs_background": "light"
     },
     "output_type": "display_data"
    }
   ],
   "source": [
    "loss_train = history_cnn.history['loss']\n",
    "loss_val = history_cnn.history['val_loss']\n",
    "epochs = range(1,19)\n",
    "plt.plot(epochs, loss_train, 'g', label='Training loss')\n",
    "plt.plot(epochs, loss_val, 'b', label='validation loss')\n",
    "plt.title('Training and Validation loss')\n",
    "plt.xlabel('Epochs')\n",
    "plt.ylabel('Loss')\n",
    "plt.legend()\n",
    "plt.show()"
   ]
  },
  {
   "cell_type": "code",
   "execution_count": 199,
   "id": "ab0c1ea6",
   "metadata": {},
   "outputs": [
    {
     "data": {
      "image/png": "[encoded data removed]",
      "text/plain": [
       "<Figure size 432x288 with 1 Axes>"
      ]
     },
     "metadata": {
      "needs_background": "light"
     },
     "output_type": "display_data"
    }
   ],
   "source": [
    "loss_train = history_cnn.history['accuracy']\n",
    "loss_val = history_cnn.history['val_accuracy']\n",
    "epochs = range(1,19)\n",
    "plt.plot(epochs, loss_train, 'g', label='Training accuracy')\n",
    "plt.plot(epochs, loss_val, 'b', label='validation accuracy')\n",
    "plt.title('Training and Validation accuracy')\n",
    "plt.xlabel('Epochs')\n",
    "plt.ylabel('Accuracy')\n",
    "plt.legend()\n",
    "plt.show()"
   ]
  },
  {
   "cell_type": "code",
   "execution_count": 200,
   "id": "2fd8f019",
   "metadata": {},
   "outputs": [
    {
     "name": "stderr",
     "output_type": "stream",
     "text": [
      "100%|██████████████████████████████████████████████████████████████████████████████████| 29/29 [10:03<00:00, 20.81s/it]\n"
     ]
    }
   ],
   "source": [
    "# creating two lists to store predicted and actual tags\n",
    "predict_cnn = []\n",
    "actual_cnn = []\n",
    "path = 'C:/Users/Dhanshree/Desktop/Research Project/test-data/'\n",
    "# for loop to extract frames from each test video\n",
    "for i in tqdm(range(test_videos.shape[0])):\n",
    "    videoFile = test_videos[i]\n",
    "    cap = cv2.VideoCapture('test-data/'+videoFile)\n",
    "    count = 0\n",
    "    counter = 0\n",
    "    j = 0\n",
    "    # removing all other files from the temp folder\n",
    "    files = glob('temp/*')\n",
    "    for f in files:\n",
    "        os.remove(f)\n",
    "    while cap.isOpened():\n",
    "        ret, frame = cap.read()\n",
    "        if ret:\n",
    "            #filename = 'frames/'+ str(j) + '_frame{:d}.jpg'.format(count)\n",
    "            filename ='temp/' + \"_frame%d.jpg\" % count;count+=1\n",
    "            cv2.imwrite(filename, frame)\n",
    "            counter += 60 # i.e. at 30 fps, this advances one second\n",
    "            j+= 1\n",
    "            cap.set(cv2.CAP_PROP_POS_FRAMES, counter)\n",
    "        else:\n",
    "            cap.release()\n",
    "            break\n",
    "# reading all the frames from temp folder\n",
    "    images = glob(\"temp/*.jpg\")\n",
    "    \n",
    "    prediction_images = []\n",
    "    for i in range(len(images)):\n",
    "        img = image.load_img(images[i], target_size=(224,224,3))\n",
    "        img = image.img_to_array(img)\n",
    "        img = img/255\n",
    "        prediction_images.append(img)\n",
    "        \n",
    "    # converting all the frames for a test video into numpy array\n",
    "    prediction_images = np.array(prediction_images)\n",
    "    # extracting features using pre-trained model\n",
    "    prediction_images = base_model.predict(prediction_images)\n",
    "    # converting features in one dimensional array\n",
    "    prediction_images = prediction_images.reshape(prediction_images.shape[0], 7*7*512)\n",
    "    # predicting tags for each array\n",
    "    prediction = model_cnn.predict_classes(prediction_images)\n",
    "    # appending the mode of predictions in predict list to assign the tag to the video\n",
    "    predict_cnn.append(y.columns.values[s.mode(prediction)[0][0]])\n",
    "    # appending the actual tag of the video\n",
    "    actual_cnn.append(videoFile.split('_')[0])\n"
   ]
  },
  {
   "cell_type": "code",
   "execution_count": 201,
   "id": "8b4ae673",
   "metadata": {},
   "outputs": [
    {
     "name": "stdout",
     "output_type": "stream",
     "text": [
      "The Accuracy for CNN model is : 27.586206896551722\n"
     ]
    }
   ],
   "source": [
    "print('The Accuracy for CNN model is :',accuracy_score(predict_cnn, actual_cnn)*100)"
   ]
  },
  {
   "cell_type": "code",
   "execution_count": 202,
   "id": "a408210c",
   "metadata": {
    "scrolled": true
   },
   "outputs": [
    {
     "data": {
      "text/plain": [
       "<AxesSubplot:>"
      ]
     },
     "execution_count": 202,
     "metadata": {},
     "output_type": "execute_result"
    },
    {
     "data": {
      "image/png": "[encoded data removed]",
      "text/plain": [
       "<Figure size 432x288 with 2 Axes>"
      ]
     },
     "metadata": {
      "needs_background": "light"
     },
     "output_type": "display_data"
    }
   ],
   "source": [
    "sns.heatmap(confusion_matrix(actual_cnn, predict_cnn), annot = True, cmap='Blues', fmt='g')"
   ]
  }
 ],
 "metadata": {
  "kernelspec": {
   "display_name": "Python 3",
   "language": "python",
   "name": "python3"
  },
  "language_info": {
   "codemirror_mode": {
    "name": "ipython",
    "version": 3
   },
   "file_extension": ".py",
   "mimetype": "text/x-python",
   "name": "python",
   "nbconvert_exporter": "python",
   "pygments_lexer": "ipython3",
   "version": "3.8.8"
  }
 },
 "nbformat": 4,
 "nbformat_minor": 5
}
